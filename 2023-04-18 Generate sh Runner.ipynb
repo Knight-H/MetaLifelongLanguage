{
 "cells": [
  {
   "cell_type": "code",
   "execution_count": 1,
   "id": "da556ccc",
   "metadata": {},
   "outputs": [],
   "source": [
    "import os, re"
   ]
  },
  {
   "cell_type": "code",
   "execution_count": 2,
   "id": "61d82527",
   "metadata": {},
   "outputs": [
    {
     "data": {
      "text/plain": [
       "'run_test_oml.sh'"
      ]
     },
     "execution_count": 2,
     "metadata": {},
     "output_type": "execute_result"
    }
   ],
   "source": [
    "learner = \"oml\"\n",
    "\n",
    "COMMAND_FILE = {\n",
    "    \"replay\": \"run_test_rep.sh\",\n",
    "    \"oml\": \"run_test_oml.sh\"\n",
    "}[learner]\n",
    "COMMAND_FILE"
   ]
  },
  {
   "cell_type": "code",
   "execution_count": 3,
   "id": "08aa88ca",
   "metadata": {},
   "outputs": [],
   "source": [
    "_models = {\n",
    "    \"replay\": [\"aREP-order1\",\n",
    "          \"aREP-order2\",\n",
    "          \"aREP-order3\",\n",
    "          \"aREP-order4\",],\n",
    "    \"oml\":[\"aOML-order1-ori\",\n",
    "          \"aOML-order2-ori\",\n",
    "          \"aOML-order3-ori\",\n",
    "          \"aOML-order4-ori\",] \n",
    "}[learner]\n",
    "\n",
    "_ids = [\"id0\", \"id1\", \"id2\", \"id3\", \"id4\"]\n",
    "COMMAND = \"#!/bin/bash\\n\\n\""
   ]
  },
  {
   "cell_type": "code",
   "execution_count": 4,
   "id": "a9934a9f",
   "metadata": {},
   "outputs": [],
   "source": [
    "def gen_command(learner, order, model_path, memory_path = None):\n",
    "    if learner == \"replay\":\n",
    "        return f\"python3.8 test_text_cls_ori_v2.py --order {order} --learner replay --model roberta --model_path {model_path}\\n\"\n",
    "    elif learner == \"oml\":\n",
    "        return f\"python3.8 test_text_cls_ori_v2.py --order {order}  --updates 0 --inner_lr 0.01 --write_prob 0.01 --model roberta --model_path {model_path} --memory_path {memory_path}\\n\""
   ]
  },
  {
   "cell_type": "code",
   "execution_count": 5,
   "id": "c659b22b",
   "metadata": {},
   "outputs": [],
   "source": [
    "for mindex in range(len(_models)):\n",
    "    \n",
    "    COMMAND += f\"# Order {_models[mindex]}\\n\"\n",
    "    for idindex in range(len(_ids)):\n",
    "        BASE_MODEL_PATH = f\"/data/model_runs/original_oml/{_models[mindex]}\"\n",
    "        find_path = _ids[idindex] # ie. \"id4\"\n",
    "\n",
    "        model_name = [x for x in os.listdir(BASE_MODEL_PATH) if  re.search(f\"{find_path}.*\\.pt$\", x)][0]\n",
    "        model_path = os.path.join(BASE_MODEL_PATH, model_name)\n",
    "        memory_name = [x for x in os.listdir(BASE_MODEL_PATH) if  re.search(f\"{find_path}.*memory\\.pickle$\", x)]\n",
    "        if len(memory_name) > 0: \n",
    "            memory_name = memory_name[0]\n",
    "            memory_path = os.path.join(BASE_MODEL_PATH, memory_name)\n",
    "        else:\n",
    "            memory_path = None\n",
    "        COMMAND += gen_command(learner, mindex+1, model_path, memory_path)\n",
    "    COMMAND += \"\\n\"\n",
    "    "
   ]
  },
  {
   "cell_type": "code",
   "execution_count": 6,
   "id": "72b51554",
   "metadata": {
    "scrolled": true
   },
   "outputs": [
    {
     "name": "stdout",
     "output_type": "stream",
     "text": [
      "#!/bin/bash\n",
      "\n",
      "# Order aOML-order1-ori\n",
      "python3.8 test_text_cls_ori_v2.py --order 1  --updates 0 --inner_lr 0.01 --write_prob 0.01 --model roberta --model_path /data/model_runs/original_oml/aOML-order1-ori/OML-order1-id0-2023-04-25_20-55-26.942437.pt --memory_path /data/model_runs/original_oml/aOML-order1-ori/OML-order1-id0-2023-04-25_20-55-26.942469_memory.pickle\n",
      "python3.8 test_text_cls_ori_v2.py --order 1  --updates 0 --inner_lr 0.01 --write_prob 0.01 --model roberta --model_path /data/model_runs/original_oml/aOML-order1-ori/OML-order1-id1-2023-04-25_21-20-27.472387.pt --memory_path /data/model_runs/original_oml/aOML-order1-ori/OML-order1-id1-2023-04-25_21-20-27.472412_memory.pickle\n",
      "python3.8 test_text_cls_ori_v2.py --order 1  --updates 0 --inner_lr 0.01 --write_prob 0.01 --model roberta --model_path /data/model_runs/original_oml/aOML-order1-ori/OML-order1-id2-2023-04-25_21-45-55.421338.pt --memory_path /data/model_runs/original_oml/aOML-order1-ori/OML-order1-id2-2023-04-25_21-45-55.421364_memory.pickle\n",
      "python3.8 test_text_cls_ori_v2.py --order 1  --updates 0 --inner_lr 0.01 --write_prob 0.01 --model roberta --model_path /data/model_runs/original_oml/aOML-order1-ori/OML-order1-id3-2023-04-25_22-11-35.187160.pt --memory_path /data/model_runs/original_oml/aOML-order1-ori/OML-order1-id3-2023-04-25_22-11-35.187189_memory.pickle\n",
      "python3.8 test_text_cls_ori_v2.py --order 1  --updates 0 --inner_lr 0.01 --write_prob 0.01 --model roberta --model_path /data/model_runs/original_oml/aOML-order1-ori/OML-order1-id4-2023-04-25_22-37-58.874941.pt --memory_path /data/model_runs/original_oml/aOML-order1-ori/OML-order1-id4-2023-04-25_22-37-58.874970_memory.pickle\n",
      "\n",
      "# Order aOML-order2-ori\n",
      "python3.8 test_text_cls_ori_v2.py --order 2  --updates 0 --inner_lr 0.01 --write_prob 0.01 --model roberta --model_path /data/model_runs/original_oml/aOML-order2-ori/OML-order2-id0-2023-04-25_18-44-05.990582.pt --memory_path /data/model_runs/original_oml/aOML-order2-ori/OML-order2-id0-2023-04-25_18-44-05.990636_memory.pickle\n",
      "python3.8 test_text_cls_ori_v2.py --order 2  --updates 0 --inner_lr 0.01 --write_prob 0.01 --model roberta --model_path /data/model_runs/original_oml/aOML-order2-ori/OML-order2-id1-2023-04-25_19-10-44.448585.pt --memory_path /data/model_runs/original_oml/aOML-order2-ori/OML-order2-id1-2023-04-25_19-10-44.448630_memory.pickle\n",
      "python3.8 test_text_cls_ori_v2.py --order 2  --updates 0 --inner_lr 0.01 --write_prob 0.01 --model roberta --model_path /data/model_runs/original_oml/aOML-order2-ori/OML-order2-id2-2023-04-25_19-35-55.550183.pt --memory_path /data/model_runs/original_oml/aOML-order2-ori/OML-order2-id2-2023-04-25_19-35-55.550219_memory.pickle\n",
      "python3.8 test_text_cls_ori_v2.py --order 2  --updates 0 --inner_lr 0.01 --write_prob 0.01 --model roberta --model_path /data/model_runs/original_oml/aOML-order2-ori/OML-order2-id3-2023-04-25_20-01-48.055113.pt --memory_path /data/model_runs/original_oml/aOML-order2-ori/OML-order2-id3-2023-04-25_20-01-48.055141_memory.pickle\n",
      "python3.8 test_text_cls_ori_v2.py --order 2  --updates 0 --inner_lr 0.01 --write_prob 0.01 --model roberta --model_path /data/model_runs/original_oml/aOML-order2-ori/OML-order2-id4-2023-04-25_20-28-33.454025.pt --memory_path /data/model_runs/original_oml/aOML-order2-ori/OML-order2-id4-2023-04-25_20-28-33.454059_memory.pickle\n",
      "\n",
      "# Order aOML-order3-ori\n",
      "python3.8 test_text_cls_ori_v2.py --order 3  --updates 0 --inner_lr 0.01 --write_prob 0.01 --model roberta --model_path /data/model_runs/original_oml/aOML-order3-ori/OML-order3-id0-2023-04-25_16-35-40.663939.pt --memory_path /data/model_runs/original_oml/aOML-order3-ori/OML-order3-id0-2023-04-25_16-35-40.663977_memory.pickle\n",
      "python3.8 test_text_cls_ori_v2.py --order 3  --updates 0 --inner_lr 0.01 --write_prob 0.01 --model roberta --model_path /data/model_runs/original_oml/aOML-order3-ori/OML-order3-id1-2023-04-25_17-02-08.143582.pt --memory_path /data/model_runs/original_oml/aOML-order3-ori/OML-order3-id1-2023-04-25_17-02-08.143658_memory.pickle\n",
      "python3.8 test_text_cls_ori_v2.py --order 3  --updates 0 --inner_lr 0.01 --write_prob 0.01 --model roberta --model_path /data/model_runs/original_oml/aOML-order3-ori/OML-order3-id2-2023-04-25_17-27-46.352239.pt --memory_path /data/model_runs/original_oml/aOML-order3-ori/OML-order3-id2-2023-04-25_17-27-46.352270_memory.pickle\n",
      "python3.8 test_text_cls_ori_v2.py --order 3  --updates 0 --inner_lr 0.01 --write_prob 0.01 --model roberta --model_path /data/model_runs/original_oml/aOML-order3-ori/OML-order3-id3-2023-04-25_17-53-09.127160.pt --memory_path /data/model_runs/original_oml/aOML-order3-ori/OML-order3-id3-2023-04-25_17-53-09.127190_memory.pickle\n",
      "python3.8 test_text_cls_ori_v2.py --order 3  --updates 0 --inner_lr 0.01 --write_prob 0.01 --model roberta --model_path /data/model_runs/original_oml/aOML-order3-ori/OML-order3-id4-2023-04-25_18-18-06.601754.pt --memory_path /data/model_runs/original_oml/aOML-order3-ori/OML-order3-id4-2023-04-25_18-18-06.601782_memory.pickle\n",
      "\n",
      "# Order aOML-order4-ori\n",
      "python3.8 test_text_cls_ori_v2.py --order 4  --updates 0 --inner_lr 0.01 --write_prob 0.01 --model roberta --model_path /data/model_runs/original_oml/aOML-order4-ori/OML-order4-id0-2023-04-25_07-29-35.121216.pt --memory_path /data/model_runs/original_oml/aOML-order4-ori/OML-order4-id0-2023-04-25_07-29-35.121245_memory.pickle\n",
      "python3.8 test_text_cls_ori_v2.py --order 4  --updates 0 --inner_lr 0.01 --write_prob 0.01 --model roberta --model_path /data/model_runs/original_oml/aOML-order4-ori/OML-order4-id1-2023-04-25_07-56-07.028089.pt --memory_path /data/model_runs/original_oml/aOML-order4-ori/OML-order4-id1-2023-04-25_07-56-07.028133_memory.pickle\n",
      "python3.8 test_text_cls_ori_v2.py --order 4  --updates 0 --inner_lr 0.01 --write_prob 0.01 --model roberta --model_path /data/model_runs/original_oml/aOML-order4-ori/OML-order4-id2-2023-04-25_08-21-49.378143.pt --memory_path /data/model_runs/original_oml/aOML-order4-ori/OML-order4-id2-2023-04-25_08-21-49.378178_memory.pickle\n",
      "python3.8 test_text_cls_ori_v2.py --order 4  --updates 0 --inner_lr 0.01 --write_prob 0.01 --model roberta --model_path /data/model_runs/original_oml/aOML-order4-ori/OML-order4-id3-2023-04-25_08-48-12.579656.pt --memory_path /data/model_runs/original_oml/aOML-order4-ori/OML-order4-id3-2023-04-25_08-48-12.579703_memory.pickle\n",
      "python3.8 test_text_cls_ori_v2.py --order 4  --updates 0 --inner_lr 0.01 --write_prob 0.01 --model roberta --model_path /data/model_runs/original_oml/aOML-order4-ori/OML-order4-id4-2023-04-25_09-13-38.954740.pt --memory_path /data/model_runs/original_oml/aOML-order4-ori/OML-order4-id4-2023-04-25_09-13-38.954784_memory.pickle\n",
      "\n",
      "\n"
     ]
    }
   ],
   "source": [
    "print(COMMAND)"
   ]
  },
  {
   "cell_type": "code",
   "execution_count": 7,
   "id": "f1686222",
   "metadata": {},
   "outputs": [],
   "source": [
    "with open(COMMAND_FILE, \"w\") as f:\n",
    "    f.write(COMMAND)"
   ]
  },
  {
   "cell_type": "markdown",
   "id": "bc83c114",
   "metadata": {},
   "source": [
    "## Run Test OML-ER for Each ID Each Order Test\n",
    "```\n",
    "# 2023-04-25 11:48:05,298 - OML-Log - INFO - COPY PASTA - not really but ok\n",
    "# 2023-04-25 11:48:05,298 - OML-Log - INFO - 0.878421052631579\n",
    "# 2023-04-25 11:48:05,298 - OML-Log - INFO - 0.6060526315789474\n",
    "# 2023-04-25 11:48:05,298 - OML-Log - INFO - 0.5744736842105264\n",
    "# 2023-04-25 11:48:05,298 - OML-Log - INFO - 0.7286842105263158\n",
    "# 2023-04-25 11:48:05,298 - OML-Log - INFO - 0.9830263157894736\n",
    "# 2023-04-25 11:48:05,298 - OML-Log - INFO - Overall test metrics: Accuracy = 0.7541, precision = 0.7756, recall = 0.7544, F1 score = 0.7576\n",
    "# 2023-04-25 11:48:05,298 - OML-Log - INFO - Total Time used: 6.0 minutes\n",
    "```"
   ]
  }
 ],
 "metadata": {
  "kernelspec": {
   "display_name": "Python 3 (ipykernel)",
   "language": "python",
   "name": "python3"
  },
  "language_info": {
   "codemirror_mode": {
    "name": "ipython",
    "version": 3
   },
   "file_extension": ".py",
   "mimetype": "text/x-python",
   "name": "python",
   "nbconvert_exporter": "python",
   "pygments_lexer": "ipython3",
   "version": "3.8.16"
  }
 },
 "nbformat": 4,
 "nbformat_minor": 5
}
