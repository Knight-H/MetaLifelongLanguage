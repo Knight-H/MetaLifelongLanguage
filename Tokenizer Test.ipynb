{
 "cells": [
  {
   "cell_type": "code",
   "execution_count": 1,
   "id": "92998054",
   "metadata": {},
   "outputs": [],
   "source": [
    "from transformers import BertTokenizer, RobertaTokenizer"
   ]
  },
  {
   "cell_type": "code",
   "execution_count": 2,
   "id": "e1787c5c",
   "metadata": {},
   "outputs": [],
   "source": [
    "tokenizer = RobertaTokenizer.from_pretrained('roberta-base')"
   ]
  },
  {
   "cell_type": "code",
   "execution_count": 3,
   "id": "f3e14a1d",
   "metadata": {},
   "outputs": [],
   "source": [
    "text = \"\"\"wales is portrayed in the 1976 western film \" the outlaw josey wales \" by actor and director clint eastwood . composer\"\"\"\n",
    "text = text.split(\" \")\n",
    "text = [text[:-1], text[-1:]]"
   ]
  },
  {
   "cell_type": "code",
   "execution_count": 4,
   "id": "549abee2",
   "metadata": {
    "scrolled": true
   },
   "outputs": [
    {
     "name": "stdout",
     "output_type": "stream",
     "text": [
      "Input:  ['wales is portrayed in the 1976 western film \" the outlaw josey wales \" by actor and director clint eastwood .', ['composer']]\n",
      "[[0, 605, 4575, 16, 15266, 11, 5, 14488, 4669, 822, 22, 5, 29319, 1236, 3876, 219, 885, 4575, 22, 30, 2701, 8, 736, 3741, 2544, 3017, 1845, 479, 2, 2, 3, 2]]\n",
      "<s> w ales Ġis Ġportrayed Ġin Ġthe Ġ1976 Ġwestern Ġfilm Ġ\" Ġthe Ġoutlaw Ġj ose y Ġw ales Ġ\" Ġby Ġactor Ġand Ġdirector Ġcl int Ġeast wood Ġ. </s> </s> <unk> </s>\n"
     ]
    }
   ],
   "source": [
    "_ids = tokenizer.batch_encode_plus([text])\n",
    "_ids = _ids['input_ids']\n",
    "tokens = \" \".join(tokenizer.convert_ids_to_tokens(_ids[0]))\n",
    "print(\"Input: \", text)\n",
    "print(_ids)\n",
    "print(tokens)"
   ]
  },
  {
   "cell_type": "code",
   "execution_count": 50,
   "id": "192b9395",
   "metadata": {},
   "outputs": [],
   "source": [
    "text = \"\"\"wales is portrayed in the 1976 western film \" the outlaw josey wales \" by actor and director clint eastwood . composer\"\"\"\n",
    "text = text.split(\" \")\n",
    "text = [\" \".join(text[:-1]), \" \".join(text[-1:])]"
   ]
  },
  {
   "cell_type": "code",
   "execution_count": 52,
   "id": "b941dd84",
   "metadata": {},
   "outputs": [
    {
     "name": "stdout",
     "output_type": "stream",
     "text": [
      "Input:  ['wales is portrayed in the 1976 western film \" the outlaw josey wales \" by actor and director clint eastwood .', 'composer']\n",
      "[[0, 885, 4575, 16, 15266, 11, 5, 14488, 4669, 822, 22, 5, 29319, 1236, 3876, 219, 885, 4575, 22, 30, 2701, 8, 736, 3741, 2544, 3017, 1845, 479, 2, 2, 17964, 2]]\n",
      "<s> Ġw ales Ġis Ġportrayed Ġin Ġthe Ġ1976 Ġwestern Ġfilm Ġ\" Ġthe Ġoutlaw Ġj ose y Ġw ales Ġ\" Ġby Ġactor Ġand Ġdirector Ġcl int Ġeast wood Ġ. </s> </s> Ġcomposer </s>\n"
     ]
    }
   ],
   "source": [
    "_ids = tokenizer.batch_encode_plus([text], add_prefix_space=True)\n",
    "_ids = _ids['input_ids']\n",
    "tokens = \" \".join(tokenizer.convert_ids_to_tokens(_ids[0]))\n",
    "print(\"Input: \", text)\n",
    "print(_ids)\n",
    "print(tokens)"
   ]
  },
  {
   "cell_type": "code",
   "execution_count": 28,
   "id": "02af7b9c",
   "metadata": {},
   "outputs": [
    {
     "data": {
      "text/plain": [
       "tensor([[    0,   605,  4575,    16, 15266,    11,     5, 14488,  4669,   822,\n",
       "            22,     5, 29319,  1236,  3876,   219,   885,  4575,    22,    30,\n",
       "          2701,     8,   736,  3741,  2544,  3017,  1845,   479, 17964,     2,\n",
       "             1,     1,     1,     1,     1,     1,     1,     1,     1,     1,\n",
       "             1,     1,     1,     1,     1,     1,     1,     1,     1,     1,\n",
       "             1,     1,     1,     1,     1,     1,     1,     1,     1,     1,\n",
       "             1,     1,     1,     1]])"
      ]
     },
     "execution_count": 28,
     "metadata": {},
     "output_type": "execute_result"
    }
   ],
   "source": [
    "tokenizer.batch_encode_plus([text], return_token_type_ids=False, max_length=64,\n",
    "                        truncation=True, padding='max_length', return_tensors='pt')['input_ids']"
   ]
  },
  {
   "cell_type": "code",
   "execution_count": null,
   "id": "5d09c8af",
   "metadata": {},
   "outputs": [],
   "source": []
  }
 ],
 "metadata": {
  "kernelspec": {
   "display_name": "metalifelong",
   "language": "python",
   "name": "metalifelong"
  },
  "language_info": {
   "codemirror_mode": {
    "name": "ipython",
    "version": 3
   },
   "file_extension": ".py",
   "mimetype": "text/x-python",
   "name": "python",
   "nbconvert_exporter": "python",
   "pygments_lexer": "ipython3",
   "version": "3.8.16"
  }
 },
 "nbformat": 4,
 "nbformat_minor": 5
}
