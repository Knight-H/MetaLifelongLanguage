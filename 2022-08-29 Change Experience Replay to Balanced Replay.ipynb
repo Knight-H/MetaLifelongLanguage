{
 "cells": [
  {
   "cell_type": "code",
   "execution_count": 1,
   "metadata": {},
   "outputs": [],
   "source": [
    "import random, gc, os, pickle, csv\n",
    "import matplotlib.pyplot as plt\n",
    "import numpy as np"
   ]
  },
  {
   "cell_type": "markdown",
   "metadata": {},
   "source": [
    "# Original ReplayMemory"
   ]
  },
  {
   "cell_type": "code",
   "execution_count": 2,
   "metadata": {},
   "outputs": [],
   "source": [
    "class ReplayMemory:\n",
    "\n",
    "    def __init__(self, write_prob, tuple_size):\n",
    "        self.buffer = []\n",
    "        self.write_prob = write_prob\n",
    "        self.tuple_size = tuple_size\n",
    "\n",
    "    def write(self, input_tuple):\n",
    "        if random.random() < self.write_prob:\n",
    "            self.buffer.append(input_tuple)\n",
    "\n",
    "    def read(self):\n",
    "        return random.choice(self.buffer)\n",
    "\n",
    "    def write_batch(self, *elements):\n",
    "        element_list = []\n",
    "        for e in elements:\n",
    "            if isinstance(e, torch.Tensor):\n",
    "                element_list.append(e.tolist())\n",
    "            else:\n",
    "                element_list.append(e)\n",
    "        for write_tuple in zip(*element_list):\n",
    "            self.write(write_tuple)\n",
    "\n",
    "    def read_batch(self, batch_size):\n",
    "        contents = [[] for _ in range(self.tuple_size)]\n",
    "        for _ in range(batch_size):\n",
    "            read_tuple = self.read()\n",
    "            for i in range(len(read_tuple)):\n",
    "                contents[i].append(read_tuple[i])\n",
    "        return tuple(contents)\n",
    "\n",
    "    def len(self):\n",
    "        return len(self.buffer)\n",
    "\n",
    "    def reset_memory(self):\n",
    "        self.buffer = []"
   ]
  },
  {
   "cell_type": "code",
   "execution_count": 3,
   "metadata": {},
   "outputs": [],
   "source": [
    "def getColorFromIndex(n):\n",
    "    colorList = ['#1f77b4', '#ff7f0e', '#2ca02c', '#d62728', '#9467bd', \\\n",
    "                 '#8c564b', '#e377c2', '#7f7f7f', '#bcbd22', '#17becf']\n",
    "    return colorList[n%len(colorList)]"
   ]
  },
  {
   "cell_type": "code",
   "execution_count": 4,
   "metadata": {},
   "outputs": [],
   "source": [
    "def add_value_labels(ax, spacing=5):\n",
    "    \"\"\"Add labels to the end of each bar in a bar chart.\n",
    "\n",
    "    Arguments:\n",
    "        ax (matplotlib.axes.Axes): The matplotlib object containing the axes\n",
    "            of the plot to annotate.\n",
    "        spacing (int): The distance between the labels and the bars.\n",
    "    \"\"\"\n",
    "\n",
    "    # For each bar: Place a label\n",
    "    for rect in ax.patches:\n",
    "        # Get X and Y placement of label from rect.\n",
    "        y_value = rect.get_height()\n",
    "        x_value = rect.get_x() + rect.get_width() / 2\n",
    "\n",
    "        # Number of points between bar and label. Change to your liking.\n",
    "        space = spacing\n",
    "        # Vertical alignment for positive values\n",
    "        va = 'bottom'\n",
    "\n",
    "        # If value of bar is negative: Place label below bar\n",
    "        if y_value < 0:\n",
    "            # Invert space to place label below\n",
    "            space *= -1\n",
    "            # Vertically align label at top\n",
    "            va = 'top'\n",
    "\n",
    "        # Use Y value as label and format number with one decimal place\n",
    "        label = \"{:.0f}\".format(y_value)\n",
    "\n",
    "        # Create annotation\n",
    "        ax.annotate(\n",
    "            label,                      # Use `label` as label\n",
    "            (x_value, y_value),         # Place label at end of the bar\n",
    "            xytext=(0, space),          # Vertically shift label by `space`\n",
    "            textcoords=\"offset points\", # Interpret `xytext` as offset in points\n",
    "            ha='center',                # Horizontally center label\n",
    "            va=va)                      # Vertically align label differently for\n",
    "                                        # positive and negative values.\n"
   ]
  },
  {
   "cell_type": "code",
   "execution_count": 5,
   "metadata": {},
   "outputs": [
    {
     "data": {
      "text/plain": [
       "575000"
      ]
     },
     "execution_count": 5,
     "metadata": {},
     "output_type": "execute_result"
    }
   ],
   "source": [
    "memory_path = \"/data/model_runs/original_oml/aOML-order1-inlr010-2022-07-31/OML-order1-id4-2022-07-31_21-18-36.241572_memory.pickle\"\n",
    "\n",
    "with open(memory_path, 'rb') as f:\n",
    "    memory = pickle.load(f)\n",
    "len(memory.buffer)"
   ]
  },
  {
   "cell_type": "code",
   "execution_count": 6,
   "metadata": {
    "scrolled": true
   },
   "outputs": [
    {
     "data": {
      "text/plain": [
       "{3: 46151,\n",
       " 2: 46452,\n",
       " 0: 45859,\n",
       " 4: 45482,\n",
       " 1: 46056,\n",
       " 8: 28815,\n",
       " 6: 28773,\n",
       " 5: 28726,\n",
       " 7: 28686,\n",
       " 18: 8301,\n",
       " 19: 8403,\n",
       " 14: 8184,\n",
       " 10: 8311,\n",
       " 16: 8054,\n",
       " 12: 8102,\n",
       " 20: 8157,\n",
       " 11: 8194,\n",
       " 21: 8150,\n",
       " 17: 8305,\n",
       " 15: 8189,\n",
       " 9: 8151,\n",
       " 22: 8135,\n",
       " 13: 8364,\n",
       " 25: 11890,\n",
       " 28: 9983,\n",
       " 31: 13435,\n",
       " 32: 12455,\n",
       " 23: 13054,\n",
       " 24: 10401,\n",
       " 30: 12198,\n",
       " 26: 10344,\n",
       " 27: 11624,\n",
       " 29: 9616}"
      ]
     },
     "execution_count": 6,
     "metadata": {},
     "output_type": "execute_result"
    }
   ],
   "source": [
    "count_bins = {}\n",
    "for example_text, example_id in memory.buffer:\n",
    "    count_bins[example_id] = count_bins.get(example_id, 0) + 1\n",
    "count_bins"
   ]
  },
  {
   "cell_type": "code",
   "execution_count": 7,
   "metadata": {},
   "outputs": [
    {
     "data": {
      "image/png": "[encoded data removed]",
      "text/plain": [
       "<Figure size 1080x576 with 1 Axes>"
      ]
     },
     "metadata": {
      "needs_background": "light"
     },
     "output_type": "display_data"
    }
   ],
   "source": [
    "fig, ax =  plt.subplots(figsize=(15,8))\n",
    "ax.bar(np.arange(33), [count_bins[label_id] for label_id in range(33)], color=[getColorFromIndex(i) for i in range(33)])\n",
    "# ax.xaxis.set_ticklabels(np.arange(33))\n",
    "\n",
    "ax.set_title('Support Set Classes Frequency')\n",
    "ax.set_xlabel('Classes 0-32')\n",
    "ax.set_ylabel('Frequency')\n",
    "add_value_labels(ax)"
   ]
  },
  {
   "cell_type": "code",
   "execution_count": 8,
   "metadata": {},
   "outputs": [
    {
     "data": {
      "text/plain": [
       "1"
      ]
     },
     "execution_count": 8,
     "metadata": {},
     "output_type": "execute_result"
    }
   ],
   "source": [
    "random.choice([1,2,3])"
   ]
  },
  {
   "cell_type": "markdown",
   "metadata": {},
   "source": [
    "# Label-aware ReplayMemory"
   ]
  },
  {
   "cell_type": "code",
   "execution_count": 9,
   "metadata": {},
   "outputs": [],
   "source": [
    "class LabelAwareReplayMemory:\n",
    "\n",
    "    def __init__(self, write_prob, tuple_size, n_classes=33):\n",
    "        self.buffer_dict = {}\n",
    "        self.n_classes = n_classes\n",
    "        self.write_prob = write_prob\n",
    "        self.tuple_size = tuple_size\n",
    "        self.read_index = 0\n",
    "\n",
    "    def read(self, class_id):\n",
    "        return [random.choice(self.buffer_dict[class_id]), class_id]\n",
    "\n",
    "    def read_batch(self, batch_size):\n",
    "        contents = [[] for _ in range(self.tuple_size)]\n",
    "        for _ in range(batch_size):\n",
    "            read_tuple = self.read(self.read_index)\n",
    "            self.read_index = (self.read_index + 1)%self.n_classes\n",
    "            for i in range(len(read_tuple)):\n",
    "                contents[i].append(read_tuple[i])\n",
    "        return tuple(contents)\n",
    "\n",
    "    def reset_memory(self):\n",
    "        self.buffer_dict = {}"
   ]
  },
  {
   "cell_type": "code",
   "execution_count": 10,
   "metadata": {},
   "outputs": [],
   "source": [
    "def convert_to_label_aware(buffer):\n",
    "    buffer_dict = {}\n",
    "    for example_text, example_id in buffer:\n",
    "        buffer_dict[example_id] = buffer_dict.get(example_id, [])\n",
    "        buffer_dict[example_id].append(example_text)\n",
    "    return buffer_dict"
   ]
  },
  {
   "cell_type": "code",
   "execution_count": 11,
   "metadata": {},
   "outputs": [],
   "source": [
    "buffer_dict = convert_to_label_aware(memory.buffer)\n",
    "new_replay = LabelAwareReplayMemory(1, 2, 33)\n",
    "new_replay.buffer_dict = buffer_dict"
   ]
  },
  {
   "cell_type": "code",
   "execution_count": 12,
   "metadata": {},
   "outputs": [],
   "source": [
    "new_memory_path, ext = os.path.splitext(memory_path)\n",
    "new_memory_path = new_memory_path + \"_label\" + ext\n",
    "\n",
    "pickle.dump(new_replay, open( new_memory_path, \"wb\" ), protocol=pickle.HIGHEST_PROTOCOL)"
   ]
  },
  {
   "cell_type": "code",
   "execution_count": 13,
   "metadata": {},
   "outputs": [
    {
     "data": {
      "text/plain": [
       "[0, 1, 2, 3, 4, 5, 6, 7, 8, 9, 10, 11, 12, 13, 14, 15, 16, 17, 18, 19]"
      ]
     },
     "execution_count": 13,
     "metadata": {},
     "output_type": "execute_result"
    }
   ],
   "source": [
    "new_replay.read_batch(20)[1]"
   ]
  },
  {
   "cell_type": "code",
   "execution_count": null,
   "metadata": {},
   "outputs": [],
   "source": []
  }
 ],
 "metadata": {
  "kernelspec": {
   "display_name": "omler_ori",
   "language": "python",
   "name": "omler_ori"
  },
  "language_info": {
   "codemirror_mode": {
    "name": "ipython",
    "version": 3
   },
   "file_extension": ".py",
   "mimetype": "text/x-python",
   "name": "python",
   "nbconvert_exporter": "python",
   "pygments_lexer": "ipython3",
   "version": "3.7.4"
  }
 },
 "nbformat": 4,
 "nbformat_minor": 4
}
