{
 "cells": [
  {
   "cell_type": "code",
   "execution_count": 1,
   "metadata": {},
   "outputs": [],
   "source": [
    "import models.utils\n",
    "import random, gc, os, pickle, csv, time, re\n",
    "import numpy as np"
   ]
  },
  {
   "cell_type": "code",
   "execution_count": 2,
   "metadata": {},
   "outputs": [
    {
     "name": "stdout",
     "output_type": "stream",
     "text": [
      "Using csv from /data/model_runs/original_oml/aOML-order1-inlr010-2022-07-31/OML-order1-id4-2022-07-31_21-18-36.241546_update5_results.csv\n"
     ]
    }
   ],
   "source": [
    "# csv_path = \"/data/model_runs/original_oml/aOML-order1-inlr010-2022-08-30-sr-query/OML-order1-id4-2022-08-30_05-21-18.854228_update50_results_sr_ta.csv\"\n",
    "csv_path = \"/data/model_runs/original_oml/aOML-order1-inlr010-2022-08-30-sr-query/OML-order1-id4-2022-08-30_05-21-18.854228_update50_results_sr_ta2.csv\"\n",
    "csv_path = \"/data/model_runs/original_oml/aOML-order1-inlr010-2022-08-30-sr-query/OML-order1-id4-2022-08-30_05-21-18.854228_update5_results_sr_ta_ss.csv\"\n",
    "csv_path = \"/data/model_runs/original_oml/aOML-order1-inlr010-2022-08-30-sr-query/OML-order1-id4-2022-08-30_05-21-18.854228_update5_results_sr_ta_ss2.csv\"\n",
    "csv_path = \"/data/model_runs/original_oml/aOML-order1-inlr010-2022-08-30-sr-query/OML-order1-id4-2022-08-30_05-21-18.854228_update5_results_sr_ta_ss3.csv\"\n",
    "csv_path = \"/data/model_runs/original_oml/aOML-order1-inlr010-2022-08-30-sr-query/OML-order1-id4-2022-08-30_05-21-18.854228_update5_results_sr_ta_ss4.csv\"\n",
    "csv_path =\"/data/model_runs/original_oml/aOML-order1-inlr010-2022-08-30-sr-query/OML-order1-id4-2022-08-30_05-21-18.854228_update5_results_sr_ta_ss5.csv\"\n",
    "csv_path =\"/data/model_runs/original_oml/aOML-order1-inlr010-2022-08-30-sr-query/OML-order1-id4-2022-08-30_05-21-18.854228_update5_results_sr_ta_ss6.csv\"\n",
    "csv_path = \"/data/model_runs/original_oml/aOML-order1-inlr010-2022-08-30-sr-query/OML-order1-id4-2022-08-30_05-21-18.854228_update5_results_sr_ta_ss7.csv\"\n",
    "csv_path = \"/data/model_runs/original_oml/aOML-order1-inlr010-2022-08-30-sr-query/OML-order1-id4-2022-08-30_05-21-18.854228_update5_results_sr_ta_ss8.csv\"\n",
    "csv_path = \"/data/model_runs/original_oml/aOML-order1-inlr010-2022-14-21-sreversed/OML-order1-id4-2022-12-15_03-55-41.428520_update5_results.csv\"\n",
    "\n",
    "csv_path = \"/data/model_runs/original_oml/aOML-order1-inlr010-2023-01-20-srev-replay2/OML-order1-id4-2023-01-21_19-49-04.497477_update5_results_nosort.csv\"\n",
    "csv_path = \"/data/model_runs/original_oml/aOML-order1-inlr010-2023-02-13-srev-curri/OML-order1-id4-2023-02-13_05-46-13.147873_update5_results.csv\"\n",
    "\n",
    "csv_path = \"/data/model_runs/original_oml/aOML-order4-inlr005-2023-02-16-srev-curri/OML-order4-id4-2023-02-17_00-51-13.202492_update10_results.csv\"\n",
    "csv_path = \"/data/model_runs/original_oml/aOML-order3-inlr005-2023-02-16-srev-curri/OML-order3-id4-2023-02-16_14-53-18.742272_update10_results.csv\"\n",
    "csv_path = \"/data/model_runs/original_oml/aOML-order2-inlr005-2023-02-16-srev-curri/OML-order2-id4-2023-02-16_01-45-47.923694_update10_results.csv\"\n",
    "csv_path = \"/data/model_runs/original_oml/aOML-order1-inlr005-2023-02-14-srev-curri/OML-order1-id4-2023-02-14_04-13-46.616300_update10_results.csv\"\n",
    "csv_path = \"/data/model_runs/original_oml/aOML-order1-inlr005-2023-03-07-pffeifer/OML-order1-id4-2023-03-07_04-05-29.829256_update5_results.csv\"\n",
    "csv_path = \"/data/model_runs/original_oml/aOML-order1-inlr005-2023-03-07-lorav11/OML-order1-id4-2023-03-07_22-12-41.477539_update5_results.csv\"\n",
    "csv_path = \"/data/model_runs/original_oml/aOML-order4-2023-03-13-no12/OML-order4-id4-2023-03-13_02-29-39.653929_update5_results.csv\"\n",
    "csv_path = \"/data/model_runs/original_oml/aOML-order3-2023-03-14-v12/OML-order3-id4-2023-03-13_22-50-18.310019_update5_results.csv\"\n",
    "\n",
    "\n",
    "BASE_MODEL_PATH = \"/data/model_runs/original_oml/aOML-order1-inlr010-2022-07-31\"\n",
    "find_path = \"id4.*update5_\"\n",
    "csv_name = [x for x in os.listdir(BASE_MODEL_PATH) if  re.search(f\"{find_path}.*results\\.csv$\", x)][0]\n",
    "csv_path = os.path.join(BASE_MODEL_PATH, csv_name)\n",
    "print(f\"Using csv from {csv_path}\")\n"
   ]
  },
  {
   "cell_type": "code",
   "execution_count": 3,
   "metadata": {},
   "outputs": [
    {
     "name": "stdout",
     "output_type": "stream",
     "text": [
      "dict_keys(['YelpDataset', 'AGNewsDataset', 'DBPediaDataset', 'AmazonDataset', 'YahooAnswersDataset'])\n"
     ]
    }
   ],
   "source": [
    "# Map of dataset -> Array<number>\n",
    "label_dict, pred_dict = {}, {}\n",
    "with open(csv_path) as csv_file:\n",
    "    csv_reader = csv.reader(csv_file, delimiter=',')\n",
    "    line_count = 0\n",
    "    for row in csv_reader:\n",
    "        if line_count == 0:\n",
    "            line_count += 1\n",
    "            continue\n",
    "        #print(row)\n",
    "        \n",
    "        dataset = ''.join([i for i in row[0] if not i.isdigit()]) # Remove all numbers to get dataset\n",
    "        label = int(row[1])\n",
    "        pred = int(row[3])\n",
    "        \n",
    "        label_dict[dataset] = label_dict.get(dataset, []) + [label]\n",
    "        pred_dict[dataset]  = pred_dict.get(dataset, []) + [pred]\n",
    "\n",
    "        line_count += 1\n",
    "\n",
    "print(label_dict.keys())"
   ]
  },
  {
   "cell_type": "code",
   "execution_count": 4,
   "metadata": {},
   "outputs": [
    {
     "name": "stdout",
     "output_type": "stream",
     "text": [
      "\n",
      "COPY PASTA - not really but ok\n",
      "0.5592105263157895\n",
      "0.8971052631578947\n",
      "0.9860526315789474\n",
      "0.5634210526315789\n",
      "0.7544736842105263\n",
      "\n",
      "Overall test metrics: Accuracy = 0.7521, precision = 0.7725, recall = 0.7529, F1 score = 0.7501\n"
     ]
    }
   ],
   "source": [
    "keys = ['YelpDataset', 'AGNewsDataset', 'DBPediaDataset', 'AmazonDataset', 'YahooAnswersDataset']\n",
    "\n",
    "accuracies, precisions, recalls, f1s = [], [], [], []\n",
    "for key in keys:\n",
    "    acc, prec, rec, f1 = models.utils.calculate_metrics(pred_dict[key], label_dict[key])\n",
    "    accuracies.append(acc)\n",
    "    precisions.append(prec)\n",
    "    recalls.append(rec)\n",
    "    f1s.append(f1)\n",
    "    \n",
    "print()\n",
    "print(\"COPY PASTA - not really but ok\")\n",
    "for row in accuracies:\n",
    "    print(row)\n",
    "print()\n",
    "print('Overall test metrics: Accuracy = {:.4f}, precision = {:.4f}, recall = {:.4f}, '\n",
    "            'F1 score = {:.4f}'.format(np.mean(accuracies), np.mean(precisions), np.mean(recalls), np.mean(f1s)))\n"
   ]
  }
 ],
 "metadata": {
  "kernelspec": {
   "display_name": "metalifelong",
   "language": "python",
   "name": "metalifelong"
  },
  "language_info": {
   "codemirror_mode": {
    "name": "ipython",
    "version": 3
   },
   "file_extension": ".py",
   "mimetype": "text/x-python",
   "name": "python",
   "nbconvert_exporter": "python",
   "pygments_lexer": "ipython3",
   "version": "3.8.16"
  }
 },
 "nbformat": 4,
 "nbformat_minor": 4
}
