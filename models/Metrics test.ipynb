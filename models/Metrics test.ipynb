{
 "cells": [
  {
   "cell_type": "code",
   "execution_count": 1,
   "metadata": {},
   "outputs": [],
   "source": [
    "from metrics import computeEM"
   ]
  },
  {
   "cell_type": "code",
   "execution_count": 4,
   "metadata": {},
   "outputs": [
    {
     "data": {
      "text/plain": [
       "14.285714285714285"
      ]
     },
     "execution_count": 4,
     "metadata": {},
     "output_type": "execute_result"
    }
   ],
   "source": [
    "computeEM('neutral', \n",
    "          ['negative'])"
   ]
  },
  {
   "cell_type": "code",
   "execution_count": 5,
   "metadata": {},
   "outputs": [
    {
     "data": {
      "text/plain": [
       "12.5"
      ]
     },
     "execution_count": 5,
     "metadata": {},
     "output_type": "execute_result"
    }
   ],
   "source": [
    "computeEM('negative', \n",
    "          ['negative'])"
   ]
  },
  {
   "cell_type": "code",
   "execution_count": 6,
   "metadata": {},
   "outputs": [
    {
     "data": {
      "text/plain": [
       "100.0"
      ]
     },
     "execution_count": 6,
     "metadata": {},
     "output_type": "execute_result"
    }
   ],
   "source": [
    "computeEM(['negative'], \n",
    "          [['negative']])"
   ]
  },
  {
   "cell_type": "code",
   "execution_count": 3,
   "metadata": {},
   "outputs": [
    {
     "data": {
      "text/plain": [
       "33.33333333333333"
      ]
     },
     "execution_count": 3,
     "metadata": {},
     "output_type": "execute_result"
    }
   ],
   "source": [
    "computeEM(['negative', 'positive', 'negative'], \n",
    "          [['negative'], ['negative'], ['negative aspo']])"
   ]
  },
  {
   "cell_type": "code",
   "execution_count": 8,
   "metadata": {},
   "outputs": [
    {
     "data": {
      "text/plain": [
       "[['a'], ['b', 'c']]"
      ]
     },
     "execution_count": 8,
     "metadata": {},
     "output_type": "execute_result"
    }
   ],
   "source": [
    "a = [['a'], ['b', 'c']]\n",
    "a[:]"
   ]
  },
  {
   "cell_type": "code",
   "execution_count": 22,
   "metadata": {},
   "outputs": [],
   "source": [
    "max_len = 1024\n",
    "def concat_example(gen_token, c, sep_token, q, ans_token, a, eos_token):\n",
    "    example = sep_token + q + ans_token + a\n",
    "    if len(example) + 1 > max_len:\n",
    "        print('an example with len {} is too long!'.format(len(example) + 1))\n",
    "        return\n",
    "    example = gen_token + c[:max_len-len(example)-1] + example + eos_token\n",
    "    return example"
   ]
  },
  {
   "cell_type": "code",
   "execution_count": 57,
   "metadata": {
    "scrolled": true
   },
   "outputs": [
    {
     "data": {
      "text/plain": [
       "'1 2 3 1 2 3 1 2 3 1 2 3 1 2 3 1 2 3 1 2 3 1 2 3 1 2 3 1 2 3 1 2 3 1 2 3 1 2 3 1 2 3 1 2 3 1 2 3 1 2 3 1 2 3 1 2 3 1 2 3 1 2 3 1 2 3 1 2 3 1 2 3 1 2 3 1 2 3 1 2 3 1 2 3 1 2 3 1 2 3 1 2 3 1 2 3 1 2 3 1 2 3 1 2 3 1 2 3 1 2 3 1 2 3 1 2 3 1 2 3 1 2 3 1 2 3 1 2 3 1 2 3 1 2 3 1 2 3 1 2 3 1 2 3 1 2 3 1 2 3 1 2 3 1 2 3 1 2 3 1 2 3 1 2 3 1 2 3 1 2 3 1 2 3 1 2 3 1 2 3 1 2 3 1 2 3 1 2 3 1 2 3 1 2 3 1 2 3 1 2 3 1 2 3 1 2 3 1 2 3 1 2 3 1 2 3 1 2 3 1 2 3 How are you ? How are you ? How are you ? How are you ? How are you ? How are you ? How are you ? How are you ? How are you ? How are you ? How are you ? How are you ? How are you ? How are you ? How are you ? How are you ? How are you ? How are you ? How are you ? How are you ? How are you ? How are you ? How are you ? How are you ? How are you ? How are you ? How are you ? How are you ? How are you ? How are you ? How are you ? How are you ? How are you ? How are you ? How are you ? How are you ? How are you ? How are you ? How are you ? How are you ? How are you ? How are you ? How are you ? How are you ? How are you ? How are you ? How are you ? How are you ? How are you ? How are you ? How are you ? How are you ? How are you ? How are you ? How are you ? How are you ? How are you ? How are you ? How are you ? How are you ? How are you ? How are you ? How are you ? How are you ? How are you ? How are you ? How are you ? How are you ? How are you ? How are you ? How are you ? How are you ? How are you ? How are you ? How are you ? How are you ? How are you ? How are you ? How are you ? How are you ? How are you ? How are you ? How are you ? How are you ? How are you ? How are you ? How are you ? How are you ? How are you ? How are you ? How are you ? How are you ? How are you ? How are you ? How are you ? How are you ? How are you ? How are you ? How are you ? How are you ? How are you ? How are you ? How are you ? How are you ? How are you ? How are you ? How are you ? How are you ? How are you ? How are you ? How are you ? How are you ? How are you ? How are you ? How are you ? How are you ? How are you ? How are you ? How are you ? How are you ? How are you ? How are you ? How are you ? How are you ? How are you ? How are you ? How are you ? How are you ? How are you ? How are you ? How are you ? How are you ? How are you ? How are you ? How are you ? How are you ? How are you ? How are you ? How are you ? How are you ? How are you ? How are you ? How are you ? How are you ? How are you ? How are you ? How are you ? How are you ? How are you ? How are you ? How are you ? How are you ? How are you ? How are you ? How are you ? How are you ? How are you ? How are you ? How are you ? How are you ? How are you ? How are you ? How are you ? How are you ? How are you ? How are you ? How are you ? How are you ? How are you ? How are you ? How are you ? How are you ? How are you ? How are you ? How are you ? How are you ? How are you ? How are you ? How are you ? How are you ? How are you ? How are you ? How are you ? How are you ? How are you ? How are you ? How are you ? How are you ? How are you ? How are you ? How are you ? How are you ? How are you ? How are you ? How are you ? How are you ? How are you ? How are you ? How are you ? How are you ? __ans__'"
      ]
     },
     "execution_count": 57,
     "metadata": {},
     "output_type": "execute_result"
    }
   ],
   "source": [
    "context = [\"1\", \"2\", \"3\"]*200\n",
    "question = [\"How\", \"are\", \"you\", \"?\"]*200\n",
    "ans_token = \"__ans__\"\n",
    "cq_example = concat_example([], context, [], question, [ans_token], [], [])\n",
    "' '.join(cq_example)"
   ]
  },
  {
   "cell_type": "code",
   "execution_count": 54,
   "metadata": {},
   "outputs": [
    {
     "data": {
      "text/plain": [
       "1023"
      ]
     },
     "execution_count": 54,
     "metadata": {},
     "output_type": "execute_result"
    }
   ],
   "source": [
    "cq_len = len(cq_example)\n",
    "cq_len"
   ]
  },
  {
   "cell_type": "code",
   "execution_count": 55,
   "metadata": {},
   "outputs": [
    {
     "data": {
      "text/plain": [
       "[]"
      ]
     },
     "execution_count": 55,
     "metadata": {},
     "output_type": "execute_result"
    }
   ],
   "source": [
    "cq_example[cq_len:]"
   ]
  },
  {
   "cell_type": "code",
   "execution_count": 59,
   "metadata": {},
   "outputs": [
    {
     "data": {
      "text/plain": [
       "[0, 1, 2, 3, 4, 5, 6, 7, 8, 9, 10]"
      ]
     },
     "execution_count": 59,
     "metadata": {},
     "output_type": "execute_result"
    }
   ],
   "source": [
    "list(range(11))"
   ]
  },
  {
   "cell_type": "code",
   "execution_count": null,
   "metadata": {},
   "outputs": [],
   "source": []
  }
 ],
 "metadata": {
  "kernelspec": {
   "display_name": "Python 3",
   "language": "python",
   "name": "python3"
  },
  "language_info": {
   "codemirror_mode": {
    "name": "ipython",
    "version": 3
   },
   "file_extension": ".py",
   "mimetype": "text/x-python",
   "name": "python",
   "nbconvert_exporter": "python",
   "pygments_lexer": "ipython3",
   "version": "3.7.4"
  }
 },
 "nbformat": 4,
 "nbformat_minor": 4
}
