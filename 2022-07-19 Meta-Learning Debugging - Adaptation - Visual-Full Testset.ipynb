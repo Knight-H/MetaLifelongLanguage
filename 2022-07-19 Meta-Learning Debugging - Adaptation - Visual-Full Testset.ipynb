{
 "cells": [
  {
   "cell_type": "code",
   "execution_count": 1,
   "metadata": {},
   "outputs": [],
   "source": [
    "import random, gc, os, pickle, csv\n",
    "\n",
    "import datasets.utils\n",
    "import models.utils\n",
    "from models.cls_oml_ori_v2 import OML\n",
    "\n",
    "import numpy as np\n",
    "\n",
    "import higher\n",
    "import torch\n",
    "import torch.nn.functional as F\n",
    "from torch.utils import data"
   ]
  },
  {
   "cell_type": "markdown",
   "metadata": {},
   "source": [
    "# Constants"
   ]
  },
  {
   "cell_type": "code",
   "execution_count": 2,
   "metadata": {},
   "outputs": [],
   "source": [
    "dataset_order_mapping = {\n",
    "    1: [2, 0, 3, 1, 4],\n",
    "    2: [3, 4, 0, 1, 2],\n",
    "    3: [2, 4, 1, 3, 0],\n",
    "    4: [0, 2, 1, 4, 3]\n",
    "}\n",
    "n_classes = 33\n",
    "device = torch.device('cuda' if torch.cuda.is_available() else 'cpu')\n",
    "# device = torch.device('cpu')\n",
    "# model_path = \"/data/model_runs/original_oml/aOML-order1-2022-07-18/OML-order1-id4-2022-07-18_17-53-13.518612.pt\"\n",
    "# model_path = \"/data/model_runs/original_oml/aOML-order1-inlr002-2022-07-31/OML-order1-id4-2022-07-31_14-53-46.456804.pt\"\n",
    "# model_path = \"/data/model_runs/original_oml/aOML-order1-inlr005-2022-07-31/OML-order1-id4-2022-07-31_18-47-41.477968.pt\"\n",
    "# model_path = \"/data/model_runs/original_oml/aOML-order1-inlr005-up20-2022-08-01/OML-order1-id4-2022-08-01_14-45-55.869765.pt\"\n",
    "# model_path = \"/data/model_runs/original_oml/aOML-order1-inlr010-2022-07-31/OML-order1-id4-2022-07-31_21-18-36.241546.pt\"\n",
    "# model_path = \"/data/model_runs/original_oml/aOML-order1-inlr020-2022-08-16/OML-order1-id4-2022-08-16_11-37-19.424113.pt\"\n",
    "model_path = \"/data/model_runs/original_oml/aOML-order1-inlr050-2022-08-16/OML-order1-id4-2022-08-16_14-16-12.167637.pt\"\n",
    "\n",
    "\n",
    "# memory_path = \"/data/model_runs/original_oml/aOML-order1-2022-07-18/OML-order1-id4-2022-07-18_17-53-13.518639_memory.pickle\"\n",
    "# memory_path = \"/data/model_runs/original_oml/aOML-order1-inlr002-2022-07-31/OML-order1-id4-2022-07-31_14-53-46.456828_memory.pickle\"\n",
    "# memory_path = \"/data/model_runs/original_oml/aOML-order1-inlr005-2022-07-31/OML-order1-id4-2022-07-31_18-47-41.477992_memory.pickle\"\n",
    "# memory_path = \"/data/model_runs/original_oml/aOML-order1-inlr005-up20-2022-08-01/OML-order1-id4-2022-08-01_14-45-55.869797_memory.pickle\"\n",
    "# memory_path = \"/data/model_runs/original_oml/aOML-order1-inlr010-2022-07-31/OML-order1-id4-2022-07-31_21-18-36.241572_memory.pickle\"\n",
    "# memory_path = \"/data/model_runs/original_oml/aOML-order1-inlr020-2022-08-16/OML-order1-id4-2022-08-16_11-37-19.424139_memory.pickle\"\n",
    "memory_path = \"/data/model_runs/original_oml/aOML-order1-inlr050-2022-08-16/OML-order1-id4-2022-08-16_14-16-12.167666_memory.pickle\"\n",
    "\n",
    "\n",
    "use_db_cache = True\n",
    "cache_dir = 'tmp'"
   ]
  },
  {
   "cell_type": "code",
   "execution_count": 3,
   "metadata": {},
   "outputs": [],
   "source": [
    "args = {\n",
    "    \"order\": 1,\n",
    "    \"n_epochs\": 1,\n",
    "    \"lr\": 3e-5,\n",
    "    \"inner_lr\": 0.001*50,\n",
    "    \"meta_lr\": 3e-5,\n",
    "    \"model\": \"bert\",\n",
    "    \"learner\": \"oml\",\n",
    "    \"mini_batch_size\": 16,\n",
    "    \"updates\": 5*20,\n",
    "    \"write_prob\": 1.0,\n",
    "    \"max_length\": 448,\n",
    "    \"seed\": 42,\n",
    "    \"replay_rate\": 0.01,\n",
    "    \"replay_every\": 9600\n",
    "}\n",
    "updates = args[\"updates\"]\n",
    "mini_batch_size = args[\"mini_batch_size\"]\n",
    "order = args[\"order\"]"
   ]
  },
  {
   "cell_type": "code",
   "execution_count": 4,
   "metadata": {},
   "outputs": [],
   "source": [
    "torch.manual_seed(args[\"seed\"])\n",
    "random.seed(args[\"seed\"])\n",
    "np.random.seed(args[\"seed\"])"
   ]
  },
  {
   "cell_type": "markdown",
   "metadata": {},
   "source": [
    "# Load Dataset"
   ]
  },
  {
   "cell_type": "code",
   "execution_count": 5,
   "metadata": {},
   "outputs": [
    {
     "name": "stdout",
     "output_type": "stream",
     "text": [
      "Loading the datasets\n",
      "Finished loading all the datasets\n"
     ]
    }
   ],
   "source": [
    "print('Loading the datasets')\n",
    "test_datasets = []\n",
    "for dataset_id in dataset_order_mapping[order]:\n",
    "    test_dataset_file = os.path.join(cache_dir, f\"{dataset_id}.cache\")\n",
    "    if os.path.exists(test_dataset_file):\n",
    "        with open(test_dataset_file, 'rb') as f:\n",
    "            test_dataset = pickle.load(f)\n",
    "    else:\n",
    "        test_dataset = datasets.utils.get_dataset_test(\"\", dataset_id)\n",
    "        print('Loaded {}'.format(test_dataset.__class__.__name__))\n",
    "        test_dataset = datasets.utils.offset_labels(test_dataset)\n",
    "        pickle.dump(test_dataset, open( test_dataset_file, \"wb\" ), protocol=pickle.HIGHEST_PROTOCOL)\n",
    "        print(f\"Pickle saved at {test_dataset_file}\")\n",
    "    test_datasets.append(test_dataset)\n",
    "print('Finished loading all the datasets')"
   ]
  },
  {
   "cell_type": "markdown",
   "metadata": {},
   "source": [
    "# Load Model"
   ]
  },
  {
   "cell_type": "code",
   "execution_count": 6,
   "metadata": {},
   "outputs": [
    {
     "name": "stderr",
     "output_type": "stream",
     "text": [
      "2022-08-17 10:00:39,337 - transformers.tokenization_utils_base - INFO - loading file https://s3.amazonaws.com/models.huggingface.co/bert/bert-base-uncased-vocab.txt from cache at /root/.cache/torch/transformers/26bc1ad6c0ac742e9b52263248f6d0f00068293b33709fae12320c0e35ccfbbb.542ce4285a40d23a559526243235df47c5f75c197f04f37d1a0c124c32c9a084\n",
      "2022-08-17 10:00:40,481 - transformers.configuration_utils - INFO - loading configuration file https://s3.amazonaws.com/models.huggingface.co/bert/bert-base-uncased-config.json from cache at /root/.cache/torch/transformers/4dad0251492946e18ac39290fcfe91b89d370fee250efe9521476438fe8ca185.7156163d5fdc189c3016baca0775ffce230789d7fa2a42ef516483e4ca884517\n",
      "2022-08-17 10:00:40,485 - transformers.configuration_utils - INFO - Model config BertConfig {\n",
      "  \"architectures\": [\n",
      "    \"BertForMaskedLM\"\n",
      "  ],\n",
      "  \"attention_probs_dropout_prob\": 0.1,\n",
      "  \"gradient_checkpointing\": false,\n",
      "  \"hidden_act\": \"gelu\",\n",
      "  \"hidden_dropout_prob\": 0.1,\n",
      "  \"hidden_size\": 768,\n",
      "  \"initializer_range\": 0.02,\n",
      "  \"intermediate_size\": 3072,\n",
      "  \"layer_norm_eps\": 1e-12,\n",
      "  \"max_position_embeddings\": 512,\n",
      "  \"model_type\": \"bert\",\n",
      "  \"num_attention_heads\": 12,\n",
      "  \"num_hidden_layers\": 12,\n",
      "  \"pad_token_id\": 0,\n",
      "  \"type_vocab_size\": 2,\n",
      "  \"vocab_size\": 30522\n",
      "}\n",
      "\n",
      "2022-08-17 10:00:41,386 - transformers.modeling_utils - INFO - loading weights file https://cdn.huggingface.co/bert-base-uncased-pytorch_model.bin from cache at /root/.cache/torch/transformers/f2ee78bdd635b758cc0a12352586868bef80e47401abe4c4fcc3832421e7338b.36ca03ab34a1a5d5fa7bc3d03d55c4fa650fed07220e2eeebc06ce58d0e9a157\n",
      "2022-08-17 10:00:44,240 - transformers.modeling_utils - INFO - All model checkpoint weights were used when initializing BertModel.\n",
      "\n",
      "2022-08-17 10:00:44,246 - transformers.modeling_utils - INFO - All the weights of BertModel were initialized from the model checkpoint at bert-base-uncased.\n",
      "If your task is similar to the task the model of the ckeckpoint was trained on, you can already use BertModel for predictions without further training.\n",
      "2022-08-17 10:00:48,868 - OML-Log - INFO - Loaded TransformerRLN as RLN\n",
      "2022-08-17 10:00:48,872 - OML-Log - INFO - Loaded LinearPLN as PLN\n"
     ]
    },
    {
     "name": "stdout",
     "output_type": "stream",
     "text": [
      "Using OML as learner\n"
     ]
    }
   ],
   "source": [
    "learner = OML(device=device, n_classes=n_classes, **args)\n",
    "print('Using {} as learner'.format(learner.__class__.__name__))\n",
    "learner.load_model(model_path)\n",
    "with open(memory_path, 'rb') as f:\n",
    "    learner.memory = pickle.load(f)"
   ]
  },
  {
   "cell_type": "markdown",
   "metadata": {},
   "source": [
    "# Testing\n",
    "\n",
    "Select specific column index per row\n",
    "https://stackoverflow.com/questions/23435782/numpy-selecting-specific-column-index-per-row-by-using-a-list-of-indexes"
   ]
  },
  {
   "cell_type": "code",
   "execution_count": 7,
   "metadata": {},
   "outputs": [],
   "source": [
    "def evaluate(dataloader, updates, mini_batch_size):\n",
    "    learner.rln.eval()\n",
    "    learner.pln.train()\n",
    "    \n",
    "    support_set = []\n",
    "    for _ in range(updates):\n",
    "        text, labels = learner.memory.read_batch(batch_size=mini_batch_size)\n",
    "        support_set.append((text, labels))\n",
    "    \n",
    "    with higher.innerloop_ctx(learner.pln, learner.inner_optimizer,\n",
    "                              copy_initial_weights=False, track_higher_grads=False) as (fpln, diffopt):\n",
    "\n",
    "        # Inner loop\n",
    "        task_predictions, task_labels = [], []\n",
    "        support_loss = []\n",
    "        for text, labels in support_set:\n",
    "            labels = torch.tensor(labels).to(device)\n",
    "            input_dict = learner.rln.encode_text(text)\n",
    "            _repr = learner.rln(input_dict)\n",
    "            output = fpln(_repr)\n",
    "            loss = learner.loss_fn(output, labels)\n",
    "            diffopt.step(loss)\n",
    "            pred = models.utils.make_prediction(output.detach())\n",
    "            support_loss.append(loss.item())\n",
    "            task_predictions.extend(pred.tolist())\n",
    "            task_labels.extend(labels.tolist())\n",
    "\n",
    "        acc, prec, rec, f1 = models.utils.calculate_metrics(task_predictions, task_labels)\n",
    "\n",
    "        print('Support set metrics: Loss = {:.4f}, accuracy = {:.4f}, precision = {:.4f}, '\n",
    "                    'recall = {:.4f}, F1 score = {:.4f}'.format(np.mean(support_loss), acc, prec, rec, f1))\n",
    "\n",
    "        all_losses, all_predictions, all_labels, all_label_conf = [], [], [], []\n",
    "\n",
    "        for text, labels in dataloader:\n",
    "            labels = torch.tensor(labels).to(device)\n",
    "            input_dict = learner.rln.encode_text(text)\n",
    "            with torch.no_grad():\n",
    "                _repr = learner.rln(input_dict)\n",
    "                output = fpln(_repr) # Output has size of torch.Size([16, 33]) [BATCH, CLASSES]\n",
    "                loss = learner.loss_fn(output, labels)\n",
    "            loss = loss.item()\n",
    "            # print(output.detach().size())\n",
    "            # output.detach().max(-1) max on each Batch, which will return [0] max, [1] indices\n",
    "            output_softmax = F.softmax(output, -1)\n",
    "            label_conf = output_softmax[np.arange(len(output_softmax)), labels] # Select labels in the softmax of 33 classes\n",
    "            \n",
    "            pred = models.utils.make_prediction(output.detach())\n",
    "            \n",
    "            all_losses.append(loss)\n",
    "            all_predictions.extend(pred.tolist())\n",
    "            all_labels.extend(labels.tolist())\n",
    "            all_label_conf.extend(label_conf.tolist())\n",
    "\n",
    "    acc, prec, rec, f1 = models.utils.calculate_metrics(all_predictions, all_labels)\n",
    "    print('Test metrics: Loss = {:.4f}, accuracy = {:.4f}, precision = {:.4f}, recall = {:.4f}, '\n",
    "                'F1 score = {:.4f}'.format(np.mean(all_losses), acc, prec, rec, f1))\n",
    "    return acc, prec, rec, f1, all_predictions, all_labels, all_label_conf"
   ]
  },
  {
   "cell_type": "code",
   "execution_count": 8,
   "metadata": {
    "scrolled": true
   },
   "outputs": [
    {
     "name": "stdout",
     "output_type": "stream",
     "text": [
      "----------Testing on test set starts here----------\n",
      "Testing on YelpDataset\n",
      "Support set metrics: Loss = 0.6866, accuracy = 0.7506, precision = 0.8400, recall = 0.8456, F1 score = 0.8409\n",
      "Test metrics: Loss = 1.0988, accuracy = 0.5364, precision = 0.6031, recall = 0.5379, F1 score = 0.4886\n",
      "Testing on AGNewsDataset\n",
      "Support set metrics: Loss = 0.6695, accuracy = 0.7638, precision = 0.8355, recall = 0.8408, F1 score = 0.8376\n",
      "Test metrics: Loss = 0.3224, accuracy = 0.9017, precision = 0.9118, recall = 0.9017, F1 score = 0.9053\n",
      "Testing on DBPediaDataset\n",
      "Support set metrics: Loss = 0.6809, accuracy = 0.7525, precision = 0.8341, recall = 0.8445, F1 score = 0.8378\n",
      "Test metrics: Loss = 0.0747, accuracy = 0.9872, precision = 0.9902, recall = 0.9872, F1 score = 0.9887\n",
      "Testing on AmazonDataset\n",
      "Support set metrics: Loss = 0.6891, accuracy = 0.7406, precision = 0.8290, recall = 0.8334, F1 score = 0.8300\n",
      "Test metrics: Loss = 1.1557, accuracy = 0.5371, precision = 0.5526, recall = 0.5388, F1 score = 0.5130\n",
      "Testing on YahooAnswersDataset\n",
      "Support set metrics: Loss = 0.6471, accuracy = 0.7519, precision = 0.8448, recall = 0.8484, F1 score = 0.8458\n",
      "Test metrics: Loss = 0.8095, accuracy = 0.7551, precision = 0.7551, recall = 0.7564, F1 score = 0.7534\n",
      "\n",
      "COPY PASTA - not really but ok\n",
      "0.5364473684210527\n",
      "0.9017105263157895\n",
      "0.9872368421052632\n",
      "0.5371052631578948\n",
      "0.7551315789473684\n",
      "\n",
      "Overall test metrics: Accuracy = 0.7435, precision = 0.7626, recall = 0.7444, F1 score = 0.7298\n"
     ]
    }
   ],
   "source": [
    "print('----------Testing on test set starts here----------')\n",
    "\n",
    "accuracies, precisions, recalls, f1s = [], [], [], []\n",
    "# Data for Visualization: [data_idx, label, label_conf, pred]\n",
    "data_for_visual = []\n",
    "\n",
    "for test_dataset in test_datasets:\n",
    "    print('Testing on {}'.format(test_dataset.__class__.__name__))\n",
    "    test_dataloader = data.DataLoader(test_dataset, batch_size=mini_batch_size, shuffle=False,\n",
    "                                      collate_fn=datasets.utils.batch_encode)\n",
    "    acc, prec, rec, f1, all_pred, all_label, all_label_conf = evaluate(dataloader=test_dataloader, updates=updates, \n",
    "                                                                       mini_batch_size=mini_batch_size)\n",
    "    \n",
    "    data_ids = [test_dataset.__class__.__name__ + str(i) for i in range(len(all_label))]\n",
    "    data_for_visual.extend(list(zip(data_ids, all_label, all_label_conf, all_pred)))\n",
    "#     print(data_ids)\n",
    "#     print(all_label)\n",
    "#     raise Exception(\"BREAKPOINT\")\n",
    "    \n",
    "    accuracies.append(acc)\n",
    "    precisions.append(prec)\n",
    "    recalls.append(rec)\n",
    "    f1s.append(f1)\n",
    "\n",
    "print()\n",
    "print(\"COPY PASTA - not really but ok\")\n",
    "for row in accuracies:\n",
    "    print(row)\n",
    "print()\n",
    "print('Overall test metrics: Accuracy = {:.4f}, precision = {:.4f}, recall = {:.4f}, '\n",
    "            'F1 score = {:.4f}'.format(np.mean(accuracies), np.mean(precisions), np.mean(recalls), np.mean(f1s)))"
   ]
  },
  {
   "cell_type": "code",
   "execution_count": 9,
   "metadata": {},
   "outputs": [
    {
     "name": "stdout",
     "output_type": "stream",
     "text": [
      "Done writing CSV File at /data/model_runs/original_oml/aOML-order1-inlr050-2022-08-16/OML-order1-id4-2022-08-16_14-16-12.167637_update100_results.csv\n"
     ]
    }
   ],
   "source": [
    "_model_path0 = os.path.splitext(model_path)[0]\n",
    "csv_filename = _model_path0 + \"_update\"+ str(updates) +\"_results.csv\"\n",
    "with open(csv_filename, 'w') as csv_file:\n",
    "    csv_writer = csv.writer(csv_file)\n",
    "    csv_writer.writerow([\"data_idx\", \"label\", \"label_conf\", \"pred\"])\n",
    "    csv_writer.writerows(data_for_visual)\n",
    "print(f\"Done writing CSV File at {csv_filename}\")"
   ]
  }
 ],
 "metadata": {
  "kernelspec": {
   "display_name": "metalifelong",
   "language": "python",
   "name": "metalifelong"
  },
  "language_info": {
   "codemirror_mode": {
    "name": "ipython",
    "version": 3
   },
   "file_extension": ".py",
   "mimetype": "text/x-python",
   "name": "python",
   "nbconvert_exporter": "python",
   "pygments_lexer": "ipython3",
   "version": "3.8.16"
  }
 },
 "nbformat": 4,
 "nbformat_minor": 4
}
