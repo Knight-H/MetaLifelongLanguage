{
 "cells": [
  {
   "cell_type": "code",
   "execution_count": 1,
   "metadata": {},
   "outputs": [
    {
     "name": "stderr",
     "output_type": "stream",
     "text": [
      "/root/MetaLifelongLanguage/env-adapter/lib/python3.8/site-packages/tqdm/auto.py:22: TqdmWarning: IProgress not found. Please update jupyter and ipywidgets. See https://ipywidgets.readthedocs.io/en/stable/user_install.html\n",
      "  from .autonotebook import tqdm as notebook_tqdm\n"
     ]
    }
   ],
   "source": [
    "import random, gc, os, pickle, csv, time\n",
    "\n",
    "import datasets.utils\n",
    "import models.utils\n",
    "from models.cls_oml_adapter import OML\n",
    "from models.base_models_ori import LabelAwareReplayMemory\n",
    "\n",
    "import numpy as np\n",
    "\n",
    "import higher\n",
    "import torch\n",
    "import torch.nn.functional as F\n",
    "from torch.utils import data"
   ]
  },
  {
   "cell_type": "markdown",
   "metadata": {},
   "source": [
    "# Constants"
   ]
  },
  {
   "cell_type": "code",
   "execution_count": 2,
   "metadata": {},
   "outputs": [],
   "source": [
    "dataset_order_mapping = {\n",
    "    1: [2, 0, 3, 1, 4],\n",
    "    2: [3, 4, 0, 1, 2],\n",
    "    3: [2, 4, 1, 3, 0],\n",
    "    4: [0, 2, 1, 4, 3]\n",
    "}\n",
    "n_classes = 33\n",
    "device = torch.device('cuda' if torch.cuda.is_available() else 'cpu')\n",
    "# device = torch.device('cpu')\n",
    "# model_path = \"/data/model_runs/original_oml/aOML-order1-2022-07-18/OML-order1-id4-2022-07-18_17-53-13.518612.pt\"\n",
    "# model_path = \"/data/model_runs/original_oml/aOML-order1-inlr002-2022-07-31/OML-order1-id4-2022-07-31_14-53-46.456804.pt\"\n",
    "# model_path = \"/data/model_runs/original_oml/aOML-order1-inlr005-2022-07-31/OML-order1-id4-2022-07-31_18-47-41.477968.pt\"\n",
    "# model_path = \"/data/model_runs/original_oml/aOML-order1-inlr005-up20-2022-08-01/OML-order1-id4-2022-08-01_14-45-55.869765.pt\"\n",
    "# model_path = \"/data/model_runs/original_oml/aOML-order1-inlr010-2022-07-31/OML-order1-id4-2022-07-31_21-18-36.241546.pt\"\n",
    "# model_path = \"/data/model_runs/original_oml/aOML-order1-inlr020-2022-08-16/OML-order1-id4-2022-08-16_11-37-19.424113.pt\"\n",
    "# model_path = \"/data/model_runs/original_oml/aOML-order1-inlr050-2022-08-16/OML-order1-id4-2022-08-16_14-16-12.167637.pt\"\n",
    "\n",
    "# v. SR \n",
    "# model_path = \"/data/model_runs/original_oml/aOML-order1-inlr010-2022-08-29-sr/OML-order1-id4-2022-08-29_18-10-31.695669.pt\"\n",
    "# v. SR Query\n",
    "# model_path = \"/data/model_runs/original_oml/aOML-order1-inlr010-2022-08-30-sr-query/OML-order1-id4-2022-08-30_05-21-18.854228.pt\"\n",
    "# model_path = \"/data/model_runs/original_oml/aOML-order1-inlr010-2022-14-21-sreversed/OML-order1-id4-2022-12-15_03-55-41.428520.pt\"\n",
    "# model_path = \"/data/model_runs/original_oml/aOML-order1-inlr010-2023-01-03-srev-replay/OML-order1-id4-2023-01-03_02-59-30.904898.pt\"\n",
    "# model_path = \"/data/model_runs/original_oml/aOML-order2-2023-01-07-srev-replay/OML-order2-id4-2023-01-07_19-01-27.774382.pt\"\n",
    "# model_path = \"/data/model_runs/original_oml/aOML-order3-2023-01-08-srev-replay/OML-order3-id4-2023-01-08_12-03-38.782801.pt\"\n",
    "# model_path = \"/data/model_runs/original_oml/aOML-order4-2023-01-08-srev-replay/OML-order4-id4-2023-01-08_21-01-31.303061.pt\"\n",
    "# model_path = \"/data/model_runs/original_oml/aOML-order1-inlr010-2023-01-20-srev-replay2/OML-order1-id4-2023-01-21_19-49-04.497477.pt\"\n",
    "# model_path = \"/data/model_runs/original_oml/aOML-order1-inlr010-2023-02-13-srev-curri/OML-order1-id4-2023-02-13_05-46-13.147873.pt\"\n",
    "# model_path = \"/data/model_runs/original_oml/aOML-order1-inlr005-2023-02-23-lorav2/OML-order1-id4-2023-02-23_23-07-12.342518.pt\"\n",
    "# model_path = \"/data/model_runs/original_oml/aOML-order1-inlr001-2023-02-26-lorav6/OML-order1-id4-2023-02-27_01-31-30.024416.pt\"\n",
    "# model_path = \"/data/model_runs/original_oml/aOML-order1-inlr002-2023-03-04-lorav8/OML-order1-id4-2023-03-04_07-28-45.624912.pt\"\n",
    "model_path = \"/data/model_runs/original_oml/aOML-order1-inlr005-2023-03-07-lorav11/OML-order1-id4-2023-03-07_22-12-41.477539.pt\"\n",
    "\n",
    "\n",
    "# memory_path = \"/data/model_runs/original_oml/aOML-order1-2022-07-18/OML-order1-id4-2022-07-18_17-53-13.518639_memory.pickle\"\n",
    "# memory_path = \"/data/model_runs/original_oml/aOML-order1-inlr002-2022-07-31/OML-order1-id4-2022-07-31_14-53-46.456828_memory.pickle\"\n",
    "# memory_path = \"/data/model_runs/original_oml/aOML-order1-inlr005-2022-07-31/OML-order1-id4-2022-07-31_18-47-41.477992_memory.pickle\"\n",
    "# memory_path = \"/data/model_runs/original_oml/aOML-order1-inlr005-up20-2022-08-01/OML-order1-id4-2022-08-01_14-45-55.869797_memory.pickle\"\n",
    "# memory_path = \"/data/model_runs/original_oml/aOML-order1-inlr010-2022-07-31/OML-order1-id4-2022-07-31_21-18-36.241572_memory.pickle\"\n",
    "# memory_path = \"/data/model_runs/original_oml/aOML-order1-inlr020-2022-08-16/OML-order1-id4-2022-08-16_11-37-19.424139_memory.pickle\"\n",
    "# memory_path = \"/data/model_runs/original_oml/aOML-order1-inlr050-2022-08-16/OML-order1-id4-2022-08-16_14-16-12.167666_memory.pickle\"\n",
    "# v. SR \n",
    "# memory_path = \"/data/model_runs/original_oml/aOML-order1-inlr010-2022-08-29-sr/OML-order1-id4-2022-08-29_18-10-31.695692_memory.pickle\"\n",
    "# v. SR Query\n",
    "# memory_path = \"/data/model_runs/original_oml/aOML-order1-inlr010-2022-08-30-sr-query/OML-order1-id4-2022-08-30_05-21-18.854254_memory.pickle\"\n",
    "# memory_path = \"/data/model_runs/original_oml/aOML-order1-inlr010-2022-14-21-sreversed/OML-order1-id4-2022-12-15_03-55-41.428551_memory.pickle\"\n",
    "# memory_path = \"/data/model_runs/original_oml/aOML-order1-inlr010-2023-01-03-srev-replay/OML-order1-id4-2023-01-03_02-59-30.904925_memory.pickle\"\n",
    "# memory_path = \"/data/model_runs/original_oml/aOML-order2-2023-01-07-srev-replay/OML-order2-id4-2023-01-07_19-01-27.774413_memory.pickle\"\n",
    "# memory_path = \"/data/model_runs/original_oml/aOML-order3-2023-01-08-srev-replay/OML-order3-id4-2023-01-08_12-03-38.782827_memory.pickle\"\n",
    "# memory_path = \"/data/model_runs/original_oml/aOML-order4-2023-01-08-srev-replay/OML-order4-id4-2023-01-08_21-01-31.303088_memory.pickle\"\n",
    "# memory_path = \"/data/model_runs/original_oml/aOML-order1-inlr010-2023-01-20-srev-replay2/OML-order1-id4-2023-01-21_19-49-04.497510_memory.pickle\"\n",
    "memory_path = \"/data/model_runs/original_oml/aOML-order1-inlr005-2023-03-07-lorav11/OML-order1-id4-2023-03-07_22-12-41.477567_memory.pickle\"\n",
    "\n",
    "\n",
    "# new_memory_path, ext = os.path.splitext(memory_path)\n",
    "# new_memory_path = new_memory_path + \"_label\" + ext\n",
    "\n",
    "use_db_cache = True\n",
    "cache_dir = 'tmp'"
   ]
  },
  {
   "cell_type": "code",
   "execution_count": 3,
   "metadata": {},
   "outputs": [],
   "source": [
    "args = {\n",
    "    \"order\": 1,\n",
    "    \"n_epochs\": 1,\n",
    "    \"lr\": 3e-5,\n",
    "    \"inner_lr\": 1e-3*5,\n",
    "    \"inner_adapter_lr\": 1e-4*50,\n",
    "    \"meta_lr\": 3e-5,\n",
    "    \"model\": \"roberta\",\n",
    "    \"learner\": \"oml\",\n",
    "    \"mini_batch_size\": 16,\n",
    "    \"updates\": 5*1,\n",
    "    \"write_prob\": 0.1,\n",
    "    \"max_length\": 448,\n",
    "    \"seed\": 42,\n",
    "    \"replay_rate\": 0.01,\n",
    "    \"replay_every\": 8000,\n",
    "    \"task_aware\": True,\n",
    "    \"reverse_support\": True,\n",
    "    \"curriculum_replay\": True,\n",
    "    \"pln\": \"1fc\",\n",
    "    \"adapter\": True,\n",
    "    \"adapter_type\": \"lora\"\n",
    "}\n",
    "sort_score = True\n",
    "updates = args[\"updates\"]\n",
    "mini_batch_size = args[\"mini_batch_size\"]\n",
    "order = args[\"order\"]\n",
    "adapter_type = args[\"adapter_type\"]"
   ]
  },
  {
   "cell_type": "code",
   "execution_count": 4,
   "metadata": {},
   "outputs": [],
   "source": [
    "torch.manual_seed(args[\"seed\"])\n",
    "random.seed(args[\"seed\"])\n",
    "np.random.seed(args[\"seed\"])"
   ]
  },
  {
   "cell_type": "markdown",
   "metadata": {},
   "source": [
    "# Load Dataset"
   ]
  },
  {
   "cell_type": "code",
   "execution_count": 5,
   "metadata": {},
   "outputs": [
    {
     "name": "stdout",
     "output_type": "stream",
     "text": [
      "Loading the datasets\n",
      "Finished loading all the datasets\n"
     ]
    }
   ],
   "source": [
    "print('Loading the datasets')\n",
    "test_datasets = []\n",
    "for dataset_id in dataset_order_mapping[order]:\n",
    "    test_dataset_file = os.path.join(cache_dir, f\"{dataset_id}.cache\")\n",
    "    if os.path.exists(test_dataset_file):\n",
    "        with open(test_dataset_file, 'rb') as f:\n",
    "            test_dataset = pickle.load(f)\n",
    "    else:\n",
    "        test_dataset = datasets.utils.get_dataset_test(\"\", dataset_id)\n",
    "        print('Loaded {}'.format(test_dataset.__class__.__name__))\n",
    "        test_dataset = datasets.utils.offset_labels(test_dataset)\n",
    "        pickle.dump(test_dataset, open( test_dataset_file, \"wb\" ), protocol=pickle.HIGHEST_PROTOCOL)\n",
    "        print(f\"Pickle saved at {test_dataset_file}\")\n",
    "    test_datasets.append(test_dataset)\n",
    "print('Finished loading all the datasets')"
   ]
  },
  {
   "cell_type": "markdown",
   "metadata": {},
   "source": [
    "# Load Model"
   ]
  },
  {
   "cell_type": "code",
   "execution_count": 6,
   "metadata": {},
   "outputs": [
    {
     "name": "stderr",
     "output_type": "stream",
     "text": [
      "Some weights of the model checkpoint at roberta-base were not used when initializing RobertaModel: ['lm_head.bias', 'lm_head.dense.bias', 'lm_head.layer_norm.weight', 'lm_head.decoder.weight', 'lm_head.layer_norm.bias', 'lm_head.dense.weight']\n",
      "- This IS expected if you are initializing RobertaModel from the checkpoint of a model trained on another task or with another architecture (e.g. initializing a BertForSequenceClassification model from a BertForPreTraining model).\n",
      "- This IS NOT expected if you are initializing RobertaModel from the checkpoint of a model that you expect to be exactly identical (initializing a BertForSequenceClassification model from a BertForSequenceClassification model).\n"
     ]
    },
    {
     "name": "stdout",
     "output_type": "stream",
     "text": [
      "================================================================================\n",
      "Name                     Architecture         #Param      %Param  Active   Train\n",
      "--------------------------------------------------------------------------------\n",
      "lora                     bottleneck          894,528       0.718       1       1\n",
      "--------------------------------------------------------------------------------\n",
      "Full model                               124,645,632     100.000               1\n",
      "================================================================================\n"
     ]
    },
    {
     "name": "stderr",
     "output_type": "stream",
     "text": [
      "2023-03-08 12:09:43,666 - OML-Log - INFO - Loaded TransformerRLN as RLN\n",
      "2023-03-08 12:09:43,669 - OML-Log - INFO - Loaded LinearPLN as PLN\n",
      "/root/MetaLifelongLanguage/env-adapter/lib/python3.8/site-packages/transformers/optimization.py:306: FutureWarning: This implementation of AdamW is deprecated and will be removed in a future version. Use the PyTorch implementation torch.optim.AdamW instead, or set `no_deprecation_warning=True` to disable this warning\n",
      "  warnings.warn(\n"
     ]
    },
    {
     "name": "stdout",
     "output_type": "stream",
     "text": [
      "Using OML as learner\n"
     ]
    }
   ],
   "source": [
    "learner = OML(device=device, n_classes=n_classes, **args)\n",
    "print('Using {} as learner'.format(learner.__class__.__name__))\n",
    "learner.load_model(model_path)\n",
    "with open(memory_path, 'rb') as f:\n",
    "#     learner.memory = pickle.load(f)\n",
    "    memory_buffer = pickle.load(f)\n"
   ]
  },
  {
   "cell_type": "code",
   "execution_count": 7,
   "metadata": {},
   "outputs": [],
   "source": [
    "# Setting up task dict for task-aware\n",
    "memory_buffer.task_dict = {\n",
    "    0: list(range(5, 9)), # AG\n",
    "    1: list(range(0, 5)), # Amazon\n",
    "    2: list(range(0, 5)), # Yelp\n",
    "    3: list(range(9, 23)), # DBPedia\n",
    "    4: list(range(23, 33)), # Yahoo\n",
    "}"
   ]
  },
  {
   "cell_type": "code",
   "execution_count": 8,
   "metadata": {},
   "outputs": [
    {
     "data": {
      "text/plain": [
       "0"
      ]
     },
     "execution_count": 8,
     "metadata": {},
     "output_type": "execute_result"
    }
   ],
   "source": [
    "dataclass_mapper = {\n",
    "    \"AGNewsDataset\": 0,\n",
    "    \"AmazonDataset\": 1,\n",
    "    \"YelpDataset\": 2,\n",
    "    \"DBPediaDataset\": 3,\n",
    "    \"YahooAnswersDataset\": 4\n",
    "}\n",
    "dataclass_mapper[\"AGNewsDataset\"]"
   ]
  },
  {
   "cell_type": "markdown",
   "metadata": {},
   "source": [
    "# Testing\n",
    "\n",
    "Select specific column index per row\n",
    "https://stackoverflow.com/questions/23435782/numpy-selecting-specific-column-index-per-row-by-using-a-list-of-indexes"
   ]
  },
  {
   "cell_type": "code",
   "execution_count": 9,
   "metadata": {},
   "outputs": [],
   "source": [
    "def evaluate(dataloader, updates, mini_batch_size, dataname=\"\"):\n",
    "    learner.rln.train()\n",
    "    learner.pln.train()\n",
    "    # Enable adapter training (Freeze all Others that isn't LoRA)\n",
    "    learner.combinedRLNPLN.rln.encoder.train_adapter(adapter_type)\n",
    "    learner.combinedRLNPLN.rln.encoder.set_active_adapters(adapter_type)\n",
    "\n",
    "    all_losses, all_predictions, all_labels, all_label_conf = [], [], [], []\n",
    "    all_adaptation_time = []\n",
    "    # Get Query set first. and then find supporting support set\n",
    "    for query_idx, (query_text, query_labels) in enumerate(dataloader):\n",
    "        print(f\"Query ID {query_idx}/{len(dataloader)}\")\n",
    "        # The task id to optimize to for support set\n",
    "        # task_idx = get_task_from_label_list(query_labels, memory_buffer.task_dict)\n",
    "        task_idx = dataclass_mapper[dataname]\n",
    "        \n",
    "    \n",
    "        support_set = []\n",
    "        for _ in range(updates):\n",
    "            text, labels = memory_buffer.read_batch_task(batch_size=mini_batch_size, task_idx=task_idx, sort_score=sort_score)\n",
    "            support_set.append((text, labels))\n",
    "\n",
    "        with higher.innerloop_ctx(learner.combinedRLNPLN, learner.inner_optimizer,\n",
    "                                  copy_initial_weights=False, track_higher_grads=False) as (frlnpln, diffopt):\n",
    "            \n",
    "            INNER_tic = time.time()\n",
    "            # Inner loop\n",
    "            task_predictions, task_labels = [], []\n",
    "            support_loss = []\n",
    "            for text, labels in support_set:\n",
    "                labels = torch.tensor(labels).to(device)\n",
    "                input_dict = learner.rln.encode_text(text)\n",
    "                output = frlnpln(input_dict)\n",
    "                loss = learner.loss_fn(output, labels)\n",
    "                diffopt.step(loss)\n",
    "                pred = models.utils.make_prediction(output.detach())\n",
    "                support_loss.append(loss.item())\n",
    "                task_predictions.extend(pred.tolist())\n",
    "                task_labels.extend(labels.tolist())\n",
    "            INNER_toc = time.time() - INNER_tic\n",
    "            all_adaptation_time.append(INNER_toc)\n",
    "\n",
    "            acc, prec, rec, f1 = models.utils.calculate_metrics(task_predictions, task_labels)\n",
    "\n",
    "            print('Support set metrics: Loss = {:.4f}, accuracy = {:.4f}, precision = {:.4f}, '\n",
    "                        'recall = {:.4f}, F1 score = {:.4f}'.format(np.mean(support_loss), acc, prec, rec, f1))\n",
    "\n",
    "            # Query set is now here!\n",
    "            query_labels = torch.tensor(query_labels).to(device)\n",
    "            query_input_dict = learner.rln.encode_text(query_text)\n",
    "            with torch.no_grad():\n",
    "                query_output = frlnpln(query_input_dict) # Output has size of torch.Size([16, 33]) [BATCH, CLASSES]\n",
    "                query_loss = learner.loss_fn(query_output, query_labels)\n",
    "            query_loss = query_loss.item()\n",
    "            # print(output.detach().size())\n",
    "            # output.detach().max(-1) max on each Batch, which will return [0] max, [1] indices\n",
    "            query_output_softmax = F.softmax(query_output, -1)\n",
    "            query_label_conf = query_output_softmax[np.arange(len(query_output_softmax)), query_labels] # Select labels in the softmax of 33 classes\n",
    "\n",
    "            query_pred = models.utils.make_prediction(query_output.detach())\n",
    "            query_acc, query_prec, query_rec, query_f1 = models.utils.calculate_metrics(query_pred.tolist(), query_labels.tolist())\n",
    "            \n",
    "            print('Query set metrics: Loss = {:.4f}, accuracy = {:.4f}, precision = {:.4f}, '\n",
    "                'recall = {:.4f}, F1 score = {:.4f}'.format(np.mean(query_loss), query_acc, query_prec, query_rec, query_f1))\n",
    "\n",
    "            all_losses.append(query_loss)\n",
    "            all_predictions.extend(query_pred.tolist())\n",
    "            all_labels.extend(query_labels.tolist())\n",
    "            all_label_conf.extend(query_label_conf.tolist())\n",
    "\n",
    "    acc, prec, rec, f1 = models.utils.calculate_metrics(all_predictions, all_labels)\n",
    "    print('Test metrics: Loss = {:.4f}, accuracy = {:.4f}, precision = {:.4f}, recall = {:.4f}, '\n",
    "                'F1 score = {:.4f}'.format(np.mean(all_losses), acc, prec, rec, f1))\n",
    "    return acc, prec, rec, f1, all_predictions, all_labels, all_label_conf, all_adaptation_time"
   ]
  },
  {
   "cell_type": "code",
   "execution_count": 10,
   "metadata": {
    "scrolled": true
   },
   "outputs": [
    {
     "name": "stdout",
     "output_type": "stream",
     "text": [
      "----------Testing on test set starts here----------\n",
      "Testing on YelpDataset\n",
      "Query ID 0/475\n",
      "Support set metrics: Loss = 0.3741, accuracy = 0.9125, precision = 0.9112, recall = 0.9067, F1 score = 0.9082\n",
      "Query set metrics: Loss = 0.7005, accuracy = 0.7500, precision = 0.7600, recall = 0.7600, F1 score = 0.7467\n",
      "Query ID 1/475\n",
      "Support set metrics: Loss = 0.4021, accuracy = 0.9250, precision = 0.9579, recall = 0.9233, F1 score = 0.9359\n",
      "Query set metrics: Loss = 0.7789, accuracy = 0.7500, precision = 0.6933, recall = 0.7933, F1 score = 0.7133\n",
      "Query ID 2/475\n",
      "Support set metrics: Loss = 0.3949, accuracy = 0.9125, precision = 0.9114, recall = 0.9067, F1 score = 0.9008\n",
      "Query set metrics: Loss = 0.7162, accuracy = 0.6875, precision = 0.5600, recall = 0.7000, F1 score = 0.6111\n",
      "Query ID 3/475\n",
      "Support set metrics: Loss = 0.3847, accuracy = 0.8875, precision = 0.8880, recall = 0.8800, F1 score = 0.8813\n",
      "Query set metrics: Loss = 1.3332, accuracy = 0.5000, precision = 0.4967, recall = 0.4833, F1 score = 0.4789\n",
      "Query ID 4/475\n",
      "Support set metrics: Loss = 0.3088, accuracy = 0.9375, precision = 0.9367, recall = 0.9333, F1 score = 0.9314\n",
      "Query set metrics: Loss = 1.0547, accuracy = 0.6875, precision = 0.6600, recall = 0.6600, F1 score = 0.6533\n",
      "Query ID 5/475\n",
      "Support set metrics: Loss = 0.3965, accuracy = 0.8875, precision = 0.8912, recall = 0.8800, F1 score = 0.8772\n",
      "Query set metrics: Loss = 1.1056, accuracy = 0.6875, precision = 0.6833, recall = 0.6600, F1 score = 0.6625\n",
      "Query ID 6/475\n",
      "Support set metrics: Loss = 0.3291, accuracy = 0.9125, precision = 0.9137, recall = 0.9067, F1 score = 0.9078\n",
      "Query set metrics: Loss = 0.7059, accuracy = 0.6875, precision = 0.6933, recall = 0.6333, F1 score = 0.6444\n",
      "Query ID 7/475\n",
      "Support set metrics: Loss = 0.3591, accuracy = 0.8875, precision = 0.8822, recall = 0.8800, F1 score = 0.8792\n",
      "Query set metrics: Loss = 1.1723, accuracy = 0.6875, precision = 0.7667, recall = 0.7333, F1 score = 0.7276\n",
      "Query ID 8/475\n"
     ]
    },
    {
     "name": "stderr",
     "output_type": "stream",
     "text": [
      "/root/MetaLifelongLanguage/env-adapter/lib/python3.8/site-packages/higher/optim.py:965: SyntaxWarning: \"is\" with a literal. Did you mean \"==\"?\n",
      "  replacement = v[0] if len(v) is 1 else v[group_idx]\n",
      "/root/MetaLifelongLanguage/env-adapter/lib/python3.8/site-packages/higher/optim.py:965: SyntaxWarning: \"is\" with a literal. Did you mean \"==\"?\n",
      "  replacement = v[0] if len(v) is 1 else v[group_idx]\n"
     ]
    },
    {
     "ename": "KeyboardInterrupt",
     "evalue": "",
     "output_type": "error",
     "traceback": [
      "\u001b[0;31m---------------------------------------------------------------------------\u001b[0m",
      "\u001b[0;31mKeyboardInterrupt\u001b[0m                         Traceback (most recent call last)",
      "Cell \u001b[0;32mIn[10], line 13\u001b[0m\n\u001b[1;32m     10\u001b[0m \u001b[38;5;28mprint\u001b[39m(\u001b[38;5;124m'\u001b[39m\u001b[38;5;124mTesting on \u001b[39m\u001b[38;5;132;01m{}\u001b[39;00m\u001b[38;5;124m'\u001b[39m\u001b[38;5;241m.\u001b[39mformat(test_dataset\u001b[38;5;241m.\u001b[39m\u001b[38;5;18m__class__\u001b[39m\u001b[38;5;241m.\u001b[39m\u001b[38;5;18m__name__\u001b[39m))\n\u001b[1;32m     11\u001b[0m test_dataloader \u001b[38;5;241m=\u001b[39m data\u001b[38;5;241m.\u001b[39mDataLoader(test_dataset, batch_size\u001b[38;5;241m=\u001b[39mmini_batch_size, shuffle\u001b[38;5;241m=\u001b[39m\u001b[38;5;28;01mFalse\u001b[39;00m,\n\u001b[1;32m     12\u001b[0m                                   collate_fn\u001b[38;5;241m=\u001b[39mdatasets\u001b[38;5;241m.\u001b[39mutils\u001b[38;5;241m.\u001b[39mbatch_encode)\n\u001b[0;32m---> 13\u001b[0m acc, prec, rec, f1, all_pred, all_label, all_label_conf, all_adaptation_time \u001b[38;5;241m=\u001b[39m \u001b[43mevaluate\u001b[49m\u001b[43m(\u001b[49m\u001b[43mdataloader\u001b[49m\u001b[38;5;241;43m=\u001b[39;49m\u001b[43mtest_dataloader\u001b[49m\u001b[43m,\u001b[49m\u001b[43m \u001b[49m\u001b[43mupdates\u001b[49m\u001b[38;5;241;43m=\u001b[39;49m\u001b[43mupdates\u001b[49m\u001b[43m,\u001b[49m\u001b[43m \u001b[49m\n\u001b[1;32m     14\u001b[0m \u001b[43m                                            \u001b[49m\u001b[43mmini_batch_size\u001b[49m\u001b[38;5;241;43m=\u001b[39;49m\u001b[43mmini_batch_size\u001b[49m\u001b[43m,\u001b[49m\u001b[43m \u001b[49m\u001b[43mdataname\u001b[49m\u001b[38;5;241;43m=\u001b[39;49m\u001b[43mtest_dataset\u001b[49m\u001b[38;5;241;43m.\u001b[39;49m\u001b[38;5;18;43m__class__\u001b[39;49m\u001b[38;5;241;43m.\u001b[39;49m\u001b[38;5;18;43m__name__\u001b[39;49m\u001b[43m)\u001b[49m\n\u001b[1;32m     16\u001b[0m data_ids \u001b[38;5;241m=\u001b[39m [test_dataset\u001b[38;5;241m.\u001b[39m\u001b[38;5;18m__class__\u001b[39m\u001b[38;5;241m.\u001b[39m\u001b[38;5;18m__name__\u001b[39m \u001b[38;5;241m+\u001b[39m \u001b[38;5;28mstr\u001b[39m(i) \u001b[38;5;28;01mfor\u001b[39;00m i \u001b[38;5;129;01min\u001b[39;00m \u001b[38;5;28mrange\u001b[39m(\u001b[38;5;28mlen\u001b[39m(all_label))]\n\u001b[1;32m     17\u001b[0m data_for_visual\u001b[38;5;241m.\u001b[39mextend(\u001b[38;5;28mlist\u001b[39m(\u001b[38;5;28mzip\u001b[39m(data_ids, all_label, all_label_conf, all_pred)))\n",
      "Cell \u001b[0;32mIn[9], line 35\u001b[0m, in \u001b[0;36mevaluate\u001b[0;34m(dataloader, updates, mini_batch_size, dataname)\u001b[0m\n\u001b[1;32m     33\u001b[0m output \u001b[38;5;241m=\u001b[39m frlnpln(input_dict)\n\u001b[1;32m     34\u001b[0m loss \u001b[38;5;241m=\u001b[39m learner\u001b[38;5;241m.\u001b[39mloss_fn(output, labels)\n\u001b[0;32m---> 35\u001b[0m \u001b[43mdiffopt\u001b[49m\u001b[38;5;241;43m.\u001b[39;49m\u001b[43mstep\u001b[49m\u001b[43m(\u001b[49m\u001b[43mloss\u001b[49m\u001b[43m)\u001b[49m\n\u001b[1;32m     36\u001b[0m pred \u001b[38;5;241m=\u001b[39m models\u001b[38;5;241m.\u001b[39mutils\u001b[38;5;241m.\u001b[39mmake_prediction(output\u001b[38;5;241m.\u001b[39mdetach())\n\u001b[1;32m     37\u001b[0m support_loss\u001b[38;5;241m.\u001b[39mappend(loss\u001b[38;5;241m.\u001b[39mitem())\n",
      "File \u001b[0;32m~/MetaLifelongLanguage/env-adapter/lib/python3.8/site-packages/higher/optim.py:260\u001b[0m, in \u001b[0;36mDifferentiableOptimizer.step\u001b[0;34m(self, loss, params, override, grad_callback, **kwargs)\u001b[0m\n\u001b[1;32m    257\u001b[0m             new_params[index] \u001b[38;5;241m=\u001b[39m p\u001b[38;5;241m.\u001b[39mdetach()\u001b[38;5;241m.\u001b[39mrequires_grad_()\n\u001b[1;32m    259\u001b[0m \u001b[38;5;28;01mif\u001b[39;00m \u001b[38;5;28mself\u001b[39m\u001b[38;5;241m.\u001b[39m_fmodel \u001b[38;5;129;01mis\u001b[39;00m \u001b[38;5;129;01mnot\u001b[39;00m \u001b[38;5;28;01mNone\u001b[39;00m:\n\u001b[0;32m--> 260\u001b[0m     \u001b[38;5;28;43mself\u001b[39;49m\u001b[38;5;241;43m.\u001b[39;49m\u001b[43m_fmodel\u001b[49m\u001b[38;5;241;43m.\u001b[39;49m\u001b[43mupdate_params\u001b[49m\u001b[43m(\u001b[49m\u001b[43mnew_params\u001b[49m\u001b[43m)\u001b[49m\n\u001b[1;32m    262\u001b[0m \u001b[38;5;28;01mreturn\u001b[39;00m new_params\n",
      "File \u001b[0;32m~/MetaLifelongLanguage/env-adapter/lib/python3.8/site-packages/higher/patch.py:470\u001b[0m, in \u001b[0;36mmake_functional.<locals>._update_params\u001b[0;34m(self, params)\u001b[0m\n\u001b[1;32m    468\u001b[0m \u001b[38;5;28mself\u001b[39m\u001b[38;5;241m.\u001b[39mfast_params \u001b[38;5;241m=\u001b[39m params\n\u001b[1;32m    469\u001b[0m params \u001b[38;5;241m=\u001b[39m \u001b[38;5;28mself\u001b[39m\u001b[38;5;241m.\u001b[39m_expand_params(params)\n\u001b[0;32m--> 470\u001b[0m \u001b[43m_update_patched_params\u001b[49m\u001b[43m(\u001b[49m\u001b[38;5;28;43mself\u001b[39;49m\u001b[43m,\u001b[49m\u001b[43m \u001b[49m\u001b[43m[\u001b[49m\u001b[43mparams\u001b[49m\u001b[43m]\u001b[49m\u001b[43m,\u001b[49m\u001b[43m \u001b[49m\u001b[38;5;241;43m0\u001b[39;49m\u001b[43m)\u001b[49m\n",
      "File \u001b[0;32m~/MetaLifelongLanguage/env-adapter/lib/python3.8/site-packages/higher/patch.py:409\u001b[0m, in \u001b[0;36m_update_patched_params\u001b[0;34m(fmodule, params_box, params_offset)\u001b[0m\n\u001b[1;32m    407\u001b[0m child_params_offset \u001b[38;5;241m=\u001b[39m params_offset \u001b[38;5;241m+\u001b[39m num_params\n\u001b[1;32m    408\u001b[0m \u001b[38;5;28;01mfor\u001b[39;00m name, child \u001b[38;5;129;01min\u001b[39;00m fmodule\u001b[38;5;241m.\u001b[39m_modules\u001b[38;5;241m.\u001b[39mitems():\n\u001b[0;32m--> 409\u001b[0m     child_params_offset \u001b[38;5;241m=\u001b[39m \u001b[43m_update_patched_params\u001b[49m\u001b[43m(\u001b[49m\n\u001b[1;32m    410\u001b[0m \u001b[43m        \u001b[49m\u001b[43mchild\u001b[49m\u001b[43m,\u001b[49m\u001b[43m \u001b[49m\u001b[43mparams_box\u001b[49m\u001b[43m,\u001b[49m\u001b[43m \u001b[49m\u001b[43mchild_params_offset\u001b[49m\n\u001b[1;32m    411\u001b[0m \u001b[43m    \u001b[49m\u001b[43m)\u001b[49m\n\u001b[1;32m    413\u001b[0m \u001b[38;5;28;01mwith\u001b[39;00m _modify_internally(fmodule):\n\u001b[1;32m    414\u001b[0m     \u001b[38;5;28;01mfor\u001b[39;00m name, param \u001b[38;5;129;01min\u001b[39;00m \u001b[38;5;28mzip\u001b[39m(\n\u001b[1;32m    415\u001b[0m         fmodule\u001b[38;5;241m.\u001b[39m_param_names,\n\u001b[1;32m    416\u001b[0m         params_box[\u001b[38;5;241m0\u001b[39m][params_offset:params_offset \u001b[38;5;241m+\u001b[39m num_params]\n\u001b[1;32m    417\u001b[0m     ):\n",
      "File \u001b[0;32m~/MetaLifelongLanguage/env-adapter/lib/python3.8/site-packages/higher/patch.py:409\u001b[0m, in \u001b[0;36m_update_patched_params\u001b[0;34m(fmodule, params_box, params_offset)\u001b[0m\n\u001b[1;32m    407\u001b[0m child_params_offset \u001b[38;5;241m=\u001b[39m params_offset \u001b[38;5;241m+\u001b[39m num_params\n\u001b[1;32m    408\u001b[0m \u001b[38;5;28;01mfor\u001b[39;00m name, child \u001b[38;5;129;01min\u001b[39;00m fmodule\u001b[38;5;241m.\u001b[39m_modules\u001b[38;5;241m.\u001b[39mitems():\n\u001b[0;32m--> 409\u001b[0m     child_params_offset \u001b[38;5;241m=\u001b[39m \u001b[43m_update_patched_params\u001b[49m\u001b[43m(\u001b[49m\n\u001b[1;32m    410\u001b[0m \u001b[43m        \u001b[49m\u001b[43mchild\u001b[49m\u001b[43m,\u001b[49m\u001b[43m \u001b[49m\u001b[43mparams_box\u001b[49m\u001b[43m,\u001b[49m\u001b[43m \u001b[49m\u001b[43mchild_params_offset\u001b[49m\n\u001b[1;32m    411\u001b[0m \u001b[43m    \u001b[49m\u001b[43m)\u001b[49m\n\u001b[1;32m    413\u001b[0m \u001b[38;5;28;01mwith\u001b[39;00m _modify_internally(fmodule):\n\u001b[1;32m    414\u001b[0m     \u001b[38;5;28;01mfor\u001b[39;00m name, param \u001b[38;5;129;01min\u001b[39;00m \u001b[38;5;28mzip\u001b[39m(\n\u001b[1;32m    415\u001b[0m         fmodule\u001b[38;5;241m.\u001b[39m_param_names,\n\u001b[1;32m    416\u001b[0m         params_box[\u001b[38;5;241m0\u001b[39m][params_offset:params_offset \u001b[38;5;241m+\u001b[39m num_params]\n\u001b[1;32m    417\u001b[0m     ):\n",
      "    \u001b[0;31m[... skipping similar frames: _update_patched_params at line 409 (5 times)]\u001b[0m\n",
      "File \u001b[0;32m~/MetaLifelongLanguage/env-adapter/lib/python3.8/site-packages/higher/patch.py:409\u001b[0m, in \u001b[0;36m_update_patched_params\u001b[0;34m(fmodule, params_box, params_offset)\u001b[0m\n\u001b[1;32m    407\u001b[0m child_params_offset \u001b[38;5;241m=\u001b[39m params_offset \u001b[38;5;241m+\u001b[39m num_params\n\u001b[1;32m    408\u001b[0m \u001b[38;5;28;01mfor\u001b[39;00m name, child \u001b[38;5;129;01min\u001b[39;00m fmodule\u001b[38;5;241m.\u001b[39m_modules\u001b[38;5;241m.\u001b[39mitems():\n\u001b[0;32m--> 409\u001b[0m     child_params_offset \u001b[38;5;241m=\u001b[39m \u001b[43m_update_patched_params\u001b[49m\u001b[43m(\u001b[49m\n\u001b[1;32m    410\u001b[0m \u001b[43m        \u001b[49m\u001b[43mchild\u001b[49m\u001b[43m,\u001b[49m\u001b[43m \u001b[49m\u001b[43mparams_box\u001b[49m\u001b[43m,\u001b[49m\u001b[43m \u001b[49m\u001b[43mchild_params_offset\u001b[49m\n\u001b[1;32m    411\u001b[0m \u001b[43m    \u001b[49m\u001b[43m)\u001b[49m\n\u001b[1;32m    413\u001b[0m \u001b[38;5;28;01mwith\u001b[39;00m _modify_internally(fmodule):\n\u001b[1;32m    414\u001b[0m     \u001b[38;5;28;01mfor\u001b[39;00m name, param \u001b[38;5;129;01min\u001b[39;00m \u001b[38;5;28mzip\u001b[39m(\n\u001b[1;32m    415\u001b[0m         fmodule\u001b[38;5;241m.\u001b[39m_param_names,\n\u001b[1;32m    416\u001b[0m         params_box[\u001b[38;5;241m0\u001b[39m][params_offset:params_offset \u001b[38;5;241m+\u001b[39m num_params]\n\u001b[1;32m    417\u001b[0m     ):\n",
      "File \u001b[0;32m~/MetaLifelongLanguage/env-adapter/lib/python3.8/site-packages/higher/patch.py:418\u001b[0m, in \u001b[0;36m_update_patched_params\u001b[0;34m(fmodule, params_box, params_offset)\u001b[0m\n\u001b[1;32m    413\u001b[0m \u001b[38;5;28;01mwith\u001b[39;00m _modify_internally(fmodule):\n\u001b[1;32m    414\u001b[0m     \u001b[38;5;28;01mfor\u001b[39;00m name, param \u001b[38;5;129;01min\u001b[39;00m \u001b[38;5;28mzip\u001b[39m(\n\u001b[1;32m    415\u001b[0m         fmodule\u001b[38;5;241m.\u001b[39m_param_names,\n\u001b[1;32m    416\u001b[0m         params_box[\u001b[38;5;241m0\u001b[39m][params_offset:params_offset \u001b[38;5;241m+\u001b[39m num_params]\n\u001b[1;32m    417\u001b[0m     ):\n\u001b[0;32m--> 418\u001b[0m         \u001b[38;5;28;43msetattr\u001b[39;49m\u001b[43m(\u001b[49m\u001b[43mfmodule\u001b[49m\u001b[43m,\u001b[49m\u001b[43m \u001b[49m\u001b[43mname\u001b[49m\u001b[43m,\u001b[49m\u001b[43m \u001b[49m\u001b[43mparam\u001b[49m\u001b[43m)\u001b[49m\n\u001b[1;32m    419\u001b[0m \u001b[38;5;28;01mreturn\u001b[39;00m child_params_offset\n",
      "File \u001b[0;32m~/MetaLifelongLanguage/env-adapter/lib/python3.8/site-packages/higher/patch.py:259\u001b[0m, in \u001b[0;36m_make_functional.<locals>.MonkeyPatched.__setattr__\u001b[0;34m(self, name, value)\u001b[0m\n\u001b[1;32m    256\u001b[0m         \u001b[38;5;28;01mif\u001b[39;00m name \u001b[38;5;129;01min\u001b[39;00m d:\n\u001b[1;32m    257\u001b[0m             \u001b[38;5;28;01mdel\u001b[39;00m d[name]\n\u001b[0;32m--> 259\u001b[0m params \u001b[38;5;241m=\u001b[39m \u001b[38;5;28;43mself\u001b[39;49m\u001b[38;5;241;43m.\u001b[39;49m\u001b[38;5;18;43m__dict__\u001b[39;49m\u001b[38;5;241;43m.\u001b[39;49m\u001b[43mget\u001b[49m(\u001b[38;5;124m'\u001b[39m\u001b[38;5;124m_parameters\u001b[39m\u001b[38;5;124m'\u001b[39m)\n\u001b[1;32m    260\u001b[0m \u001b[38;5;28;01mif\u001b[39;00m params \u001b[38;5;129;01mis\u001b[39;00m \u001b[38;5;129;01mnot\u001b[39;00m \u001b[38;5;28;01mNone\u001b[39;00m \u001b[38;5;129;01mand\u001b[39;00m name \u001b[38;5;129;01min\u001b[39;00m params:\n\u001b[1;32m    261\u001b[0m     \u001b[38;5;28;01mif\u001b[39;00m \u001b[38;5;129;01mnot\u001b[39;00m \u001b[38;5;28misinstance\u001b[39m(value, _torch\u001b[38;5;241m.\u001b[39mTensor):\n",
      "\u001b[0;31mKeyboardInterrupt\u001b[0m: "
     ]
    }
   ],
   "source": [
    "tic = time.time()\n",
    "print('----------Testing on test set starts here----------')\n",
    "\n",
    "accuracies, precisions, recalls, f1s = [], [], [], []\n",
    "all_adapt_time = []\n",
    "# Data for Visualization: [data_idx, label, label_conf, pred]\n",
    "data_for_visual = []\n",
    "\n",
    "for test_dataset in test_datasets:\n",
    "    print('Testing on {}'.format(test_dataset.__class__.__name__))\n",
    "    test_dataloader = data.DataLoader(test_dataset, batch_size=mini_batch_size, shuffle=False,\n",
    "                                      collate_fn=datasets.utils.batch_encode)\n",
    "    acc, prec, rec, f1, all_pred, all_label, all_label_conf, all_adaptation_time = evaluate(dataloader=test_dataloader, updates=updates, \n",
    "                                                mini_batch_size=mini_batch_size, dataname=test_dataset.__class__.__name__)\n",
    "    \n",
    "    data_ids = [test_dataset.__class__.__name__ + str(i) for i in range(len(all_label))]\n",
    "    data_for_visual.extend(list(zip(data_ids, all_label, all_label_conf, all_pred)))\n",
    "    all_adapt_time.extend(all_adaptation_time)\n",
    "    \n",
    "    accuracies.append(acc)\n",
    "    precisions.append(prec)\n",
    "    recalls.append(rec)\n",
    "    f1s.append(f1)\n",
    "\n",
    "\n",
    "print()\n",
    "print(\"COPY PASTA - not really but ok\")\n",
    "for row in accuracies:\n",
    "    print(row)\n",
    "print()\n",
    "print('Overall test metrics: Accuracy = {:.4f}, precision = {:.4f}, recall = {:.4f}, '\n",
    "            'F1 score = {:.4f}'.format(np.mean(accuracies), np.mean(precisions), np.mean(recalls), np.mean(f1s)))\n",
    "\n",
    "toc = time.time() - tic\n",
    "print(f\"Total Time used: {toc//60} minutes\")"
   ]
  },
  {
   "cell_type": "code",
   "execution_count": null,
   "metadata": {},
   "outputs": [],
   "source": [
    "_model_path0 = os.path.splitext(model_path)[0]\n",
    "csv_filename = _model_path0 + \"_update\"+ str(updates) +\"_results.csv\" # for selective replay\n",
    "with open(csv_filename, 'w') as csv_file:\n",
    "    csv_writer = csv.writer(csv_file)\n",
    "    csv_writer.writerow([\"data_idx\", \"label\", \"label_conf\", \"pred\"])\n",
    "    csv_writer.writerows(data_for_visual)\n",
    "print(f\"Done writing CSV File at {csv_filename}\")"
   ]
  },
  {
   "cell_type": "code",
   "execution_count": null,
   "metadata": {},
   "outputs": [],
   "source": [
    "# Log Time for Inference\n",
    "_model_path0 = os.path.splitext(model_path)[0]\n",
    "time_txt_filename = _model_path0 + \"_update\"+ str(updates) +\"_time_inference.csv\" \n",
    "with open(time_txt_filename, 'w') as csv_file:\n",
    "    csv_writer = csv.writer(csv_file)\n",
    "    csv_writer.writerow([\"time_id\", \"time\"])\n",
    "    csv_writer.writerow([\"Total Time\", f\"{toc//60} minutes\"])\n",
    "    csv_writer.writerow([\"mean Adapt Time\", f\"{np.mean(all_adapt_time)} s\"])\n",
    "print(f\"Done writing Time CSV File at {time_txt_filename}\")"
   ]
  }
 ],
 "metadata": {
  "kernelspec": {
   "display_name": "meta-adapter",
   "language": "python",
   "name": "meta-adapter"
  },
  "language_info": {
   "codemirror_mode": {
    "name": "ipython",
    "version": 3
   },
   "file_extension": ".py",
   "mimetype": "text/x-python",
   "name": "python",
   "nbconvert_exporter": "python",
   "pygments_lexer": "ipython3",
   "version": "3.8.16"
  }
 },
 "nbformat": 4,
 "nbformat_minor": 4
}
