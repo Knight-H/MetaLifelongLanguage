{
 "cells": [
  {
   "cell_type": "code",
   "execution_count": 1,
   "metadata": {},
   "outputs": [],
   "source": [
    "import random, gc, os, pickle, csv\n",
    "\n",
    "import datasets.utils\n",
    "import models.utils\n",
    "from models.cls_oml_ori_v2 import OML\n",
    "\n",
    "import matplotlib.pyplot as plt\n",
    "import numpy as np\n",
    "\n",
    "import higher\n",
    "import torch\n",
    "import torch.nn.functional as F\n",
    "from torch.utils import data"
   ]
  },
  {
   "cell_type": "markdown",
   "metadata": {},
   "source": [
    "# Constants"
   ]
  },
  {
   "cell_type": "code",
   "execution_count": 2,
   "metadata": {},
   "outputs": [],
   "source": [
    "dataset_order_mapping = {\n",
    "    1: [2, 0, 3, 1, 4],\n",
    "    2: [3, 4, 0, 1, 2],\n",
    "    3: [2, 4, 1, 3, 0],\n",
    "    4: [0, 2, 1, 4, 3]\n",
    "}\n",
    "n_classes = 33\n",
    "device = torch.device('cuda' if torch.cuda.is_available() else 'cpu')\n",
    "# device = torch.device('cpu')\n",
    "# model_path = \"/data/model_runs/original_oml/aOML-order1-2022-07-18/OML-order1-id4-2022-07-18_17-53-13.518612.pt\"\n",
    "# model_path = \"/data/model_runs/original_oml/aOML-order1-inlr002-2022-07-31/OML-order1-id4-2022-07-31_14-53-46.456804.pt\"\n",
    "# model_path = \"/data/model_runs/original_oml/aOML-order1-inlr005-2022-07-31/OML-order1-id4-2022-07-31_18-47-41.477968.pt\"\n",
    "# model_path = \"/data/model_runs/original_oml/aOML-order1-inlr005-up20-2022-08-01/OML-order1-id4-2022-08-01_14-45-55.869765.pt\"\n",
    "model_path = \"/data/model_runs/original_oml/aOML-order1-inlr010-2022-07-31/OML-order1-id4-2022-07-31_21-18-36.241546.pt\"\n",
    "# model_path = \"/data/model_runs/original_oml/aOML-order1-inlr020-2022-08-16/OML-order1-id4-2022-08-16_11-37-19.424113.pt\"\n",
    "# model_path = \"/data/model_runs/original_oml/aOML-order1-inlr050-2022-08-16/OML-order1-id4-2022-08-16_14-16-12.167637.pt\"\n",
    "\n",
    "\n",
    "# memory_path = \"/data/model_runs/original_oml/aOML-order1-2022-07-18/OML-order1-id4-2022-07-18_17-53-13.518639_memory.pickle\"\n",
    "# memory_path = \"/data/model_runs/original_oml/aOML-order1-inlr002-2022-07-31/OML-order1-id4-2022-07-31_14-53-46.456828_memory.pickle\"\n",
    "# memory_path = \"/data/model_runs/original_oml/aOML-order1-inlr005-2022-07-31/OML-order1-id4-2022-07-31_18-47-41.477992_memory.pickle\"\n",
    "# memory_path = \"/data/model_runs/original_oml/aOML-order1-inlr005-up20-2022-08-01/OML-order1-id4-2022-08-01_14-45-55.869797_memory.pickle\"\n",
    "memory_path = \"/data/model_runs/original_oml/aOML-order1-inlr010-2022-07-31/OML-order1-id4-2022-07-31_21-18-36.241572_memory.pickle\"\n",
    "# memory_path = \"/data/model_runs/original_oml/aOML-order1-inlr020-2022-08-16/OML-order1-id4-2022-08-16_11-37-19.424139_memory.pickle\"\n",
    "# memory_path = \"/data/model_runs/original_oml/aOML-order1-inlr050-2022-08-16/OML-order1-id4-2022-08-16_14-16-12.167666_memory.pickle\"\n",
    "\n",
    "\n",
    "use_db_cache = True\n",
    "cache_dir = 'tmp'"
   ]
  },
  {
   "cell_type": "code",
   "execution_count": 3,
   "metadata": {},
   "outputs": [],
   "source": [
    "args = {\n",
    "    \"order\": 1,\n",
    "    \"n_epochs\": 1,\n",
    "    \"lr\": 3e-5,\n",
    "    \"inner_lr\": 0.001*50,\n",
    "    \"meta_lr\": 3e-5,\n",
    "    \"model\": \"bert\",\n",
    "    \"learner\": \"oml\",\n",
    "    \"mini_batch_size\": 16,\n",
    "    \"updates\": 5*2,\n",
    "    \"write_prob\": 1.0,\n",
    "    \"max_length\": 448,\n",
    "    \"seed\": 42,\n",
    "    \"replay_rate\": 0.01,\n",
    "    \"replay_every\": 9600\n",
    "}\n",
    "updates = args[\"updates\"]\n",
    "mini_batch_size = args[\"mini_batch_size\"]\n",
    "order = args[\"order\"]"
   ]
  },
  {
   "cell_type": "code",
   "execution_count": 4,
   "metadata": {},
   "outputs": [],
   "source": [
    "torch.manual_seed(args[\"seed\"])\n",
    "random.seed(args[\"seed\"])\n",
    "np.random.seed(args[\"seed\"])"
   ]
  },
  {
   "cell_type": "markdown",
   "metadata": {},
   "source": [
    "# Load Dataset"
   ]
  },
  {
   "cell_type": "code",
   "execution_count": 5,
   "metadata": {},
   "outputs": [
    {
     "name": "stdout",
     "output_type": "stream",
     "text": [
      "Loading the datasets\n",
      "Finished loading all the datasets\n"
     ]
    }
   ],
   "source": [
    "print('Loading the datasets')\n",
    "test_datasets = []\n",
    "for dataset_id in dataset_order_mapping[order]:\n",
    "    test_dataset_file = os.path.join(cache_dir, f\"{dataset_id}.cache\")\n",
    "    if os.path.exists(test_dataset_file):\n",
    "        with open(test_dataset_file, 'rb') as f:\n",
    "            test_dataset = pickle.load(f)\n",
    "    else:\n",
    "        test_dataset = datasets.utils.get_dataset_test(\"\", dataset_id)\n",
    "        print('Loaded {}'.format(test_dataset.__class__.__name__))\n",
    "        test_dataset = datasets.utils.offset_labels(test_dataset)\n",
    "        pickle.dump(test_dataset, open( test_dataset_file, \"wb\" ), protocol=pickle.HIGHEST_PROTOCOL)\n",
    "        print(f\"Pickle saved at {test_dataset_file}\")\n",
    "    test_datasets.append(test_dataset)\n",
    "print('Finished loading all the datasets')"
   ]
  },
  {
   "cell_type": "markdown",
   "metadata": {},
   "source": [
    "# Load Model"
   ]
  },
  {
   "cell_type": "code",
   "execution_count": 6,
   "metadata": {},
   "outputs": [
    {
     "name": "stderr",
     "output_type": "stream",
     "text": [
      "2022-08-23 08:11:53,360 - transformers.tokenization_utils_base - INFO - loading file https://s3.amazonaws.com/models.huggingface.co/bert/bert-base-uncased-vocab.txt from cache at /root/.cache/torch/transformers/26bc1ad6c0ac742e9b52263248f6d0f00068293b33709fae12320c0e35ccfbbb.542ce4285a40d23a559526243235df47c5f75c197f04f37d1a0c124c32c9a084\n",
      "2022-08-23 08:11:54,610 - transformers.configuration_utils - INFO - loading configuration file https://s3.amazonaws.com/models.huggingface.co/bert/bert-base-uncased-config.json from cache at /root/.cache/torch/transformers/4dad0251492946e18ac39290fcfe91b89d370fee250efe9521476438fe8ca185.7156163d5fdc189c3016baca0775ffce230789d7fa2a42ef516483e4ca884517\n",
      "2022-08-23 08:11:54,613 - transformers.configuration_utils - INFO - Model config BertConfig {\n",
      "  \"architectures\": [\n",
      "    \"BertForMaskedLM\"\n",
      "  ],\n",
      "  \"attention_probs_dropout_prob\": 0.1,\n",
      "  \"gradient_checkpointing\": false,\n",
      "  \"hidden_act\": \"gelu\",\n",
      "  \"hidden_dropout_prob\": 0.1,\n",
      "  \"hidden_size\": 768,\n",
      "  \"initializer_range\": 0.02,\n",
      "  \"intermediate_size\": 3072,\n",
      "  \"layer_norm_eps\": 1e-12,\n",
      "  \"max_position_embeddings\": 512,\n",
      "  \"model_type\": \"bert\",\n",
      "  \"num_attention_heads\": 12,\n",
      "  \"num_hidden_layers\": 12,\n",
      "  \"pad_token_id\": 0,\n",
      "  \"type_vocab_size\": 2,\n",
      "  \"vocab_size\": 30522\n",
      "}\n",
      "\n",
      "2022-08-23 08:11:54,675 - transformers.modeling_utils - INFO - loading weights file https://cdn.huggingface.co/bert-base-uncased-pytorch_model.bin from cache at /root/.cache/torch/transformers/f2ee78bdd635b758cc0a12352586868bef80e47401abe4c4fcc3832421e7338b.36ca03ab34a1a5d5fa7bc3d03d55c4fa650fed07220e2eeebc06ce58d0e9a157\n",
      "2022-08-23 08:11:57,521 - transformers.modeling_utils - INFO - All model checkpoint weights were used when initializing BertModel.\n",
      "\n",
      "2022-08-23 08:11:57,525 - transformers.modeling_utils - INFO - All the weights of BertModel were initialized from the model checkpoint at bert-base-uncased.\n",
      "If your task is similar to the task the model of the ckeckpoint was trained on, you can already use BertModel for predictions without further training.\n",
      "2022-08-23 08:12:02,314 - OML-Log - INFO - Loaded TransformerRLN as RLN\n",
      "2022-08-23 08:12:02,319 - OML-Log - INFO - Loaded LinearPLN as PLN\n"
     ]
    },
    {
     "name": "stdout",
     "output_type": "stream",
     "text": [
      "Using OML as learner\n"
     ]
    }
   ],
   "source": [
    "learner = OML(device=device, n_classes=n_classes, **args)\n",
    "print('Using {} as learner'.format(learner.__class__.__name__))\n",
    "learner.load_model(model_path)\n",
    "with open(memory_path, 'rb') as f:\n",
    "    learner.memory = pickle.load(f)"
   ]
  },
  {
   "cell_type": "markdown",
   "metadata": {},
   "source": [
    "# Testing\n",
    "\n",
    "Select specific column index per row\n",
    "https://stackoverflow.com/questions/23435782/numpy-selecting-specific-column-index-per-row-by-using-a-list-of-indexes"
   ]
  },
  {
   "cell_type": "code",
   "execution_count": 7,
   "metadata": {},
   "outputs": [],
   "source": [
    "def evaluate(dataloader, updates, mini_batch_size):\n",
    "    learner.rln.eval()\n",
    "    learner.pln.train()\n",
    "    \n",
    "    support_set = []\n",
    "    for _ in range(updates):\n",
    "        text, labels = learner.memory.read_batch(batch_size=mini_batch_size)\n",
    "        support_set.append((text, labels))\n",
    "        print(labels)\n",
    "    \n",
    "#     with higher.innerloop_ctx(learner.pln, learner.inner_optimizer,\n",
    "#                               copy_initial_weights=False, track_higher_grads=False) as (fpln, diffopt):\n",
    "\n",
    "#         # Inner loop\n",
    "#         task_predictions, task_labels = [], []\n",
    "#         support_loss = []\n",
    "#         for text, labels in support_set:\n",
    "#             labels = torch.tensor(labels).to(device)\n",
    "#             input_dict = learner.rln.encode_text(text)\n",
    "#             _repr = learner.rln(input_dict)\n",
    "#             output = fpln(_repr)\n",
    "#             loss = learner.loss_fn(output, labels)\n",
    "#             diffopt.step(loss)\n",
    "#             pred = models.utils.make_prediction(output.detach())\n",
    "#             support_loss.append(loss.item())\n",
    "#             task_predictions.extend(pred.tolist())\n",
    "#             task_labels.extend(labels.tolist())\n",
    "\n",
    "#         acc, prec, rec, f1 = models.utils.calculate_metrics(task_predictions, task_labels)\n",
    "\n",
    "#         print('Support set metrics: Loss = {:.4f}, accuracy = {:.4f}, precision = {:.4f}, '\n",
    "#                     'recall = {:.4f}, F1 score = {:.4f}'.format(np.mean(support_loss), acc, prec, rec, f1))\n",
    "\n",
    "#         all_losses, all_predictions, all_labels, all_label_conf = [], [], [], []\n",
    "\n",
    "#         for text, labels in dataloader:\n",
    "#             labels = torch.tensor(labels).to(device)\n",
    "#             input_dict = learner.rln.encode_text(text)\n",
    "#             with torch.no_grad():\n",
    "#                 _repr = learner.rln(input_dict)\n",
    "#                 output = fpln(_repr) # Output has size of torch.Size([16, 33]) [BATCH, CLASSES]\n",
    "#                 loss = learner.loss_fn(output, labels)\n",
    "#             loss = loss.item()\n",
    "#             # print(output.detach().size())\n",
    "#             # output.detach().max(-1) max on each Batch, which will return [0] max, [1] indices\n",
    "#             output_softmax = F.softmax(output, -1)\n",
    "#             label_conf = output_softmax[np.arange(len(output_softmax)), labels] # Select labels in the softmax of 33 classes\n",
    "            \n",
    "#             pred = models.utils.make_prediction(output.detach())\n",
    "            \n",
    "#             all_losses.append(loss)\n",
    "#             all_predictions.extend(pred.tolist())\n",
    "#             all_labels.extend(labels.tolist())\n",
    "#             all_label_conf.extend(label_conf.tolist())\n",
    "\n",
    "#     acc, prec, rec, f1 = models.utils.calculate_metrics(all_predictions, all_labels)\n",
    "#     print('Test metrics: Loss = {:.4f}, accuracy = {:.4f}, precision = {:.4f}, recall = {:.4f}, '\n",
    "#                 'F1 score = {:.4f}'.format(np.mean(all_losses), acc, prec, rec, f1))\n",
    "    return support_set"
   ]
  },
  {
   "cell_type": "code",
   "execution_count": 8,
   "metadata": {
    "scrolled": true
   },
   "outputs": [
    {
     "name": "stdout",
     "output_type": "stream",
     "text": [
      "----------Testing on test set starts here----------\n",
      "Testing on YelpDataset\n",
      "[6, 0, 14, 22, 15, 8, 0, 24, 1, 1, 0, 0, 3, 6, 11, 25]\n",
      "[4, 8, 31, 3, 22, 29, 15, 0, 7, 4, 4, 12, 6, 7, 3, 3]\n",
      "[3, 1, 4, 0, 1, 21, 4, 23, 31, 8, 1, 0, 19, 2, 6, 3]\n",
      "[1, 9, 9, 4, 22, 4, 0, 17, 26, 3, 7, 4, 1, 6, 9, 0]\n",
      "[6, 27, 15, 5, 27, 4, 20, 17, 16, 4, 14, 0, 19, 3, 21, 3]\n",
      "[7, 11, 8, 26, 3, 23, 8, 12, 8, 9, 32, 15, 3, 2, 1, 6]\n",
      "[5, 26, 27, 4, 3, 0, 5, 5, 0, 1, 1, 4, 23, 27, 21, 0]\n",
      "[8, 24, 19, 2, 8, 22, 0, 7, 26, 3, 16, 32, 5, 26, 1, 9]\n",
      "[29, 5, 7, 0, 5, 32, 27, 4, 10, 27, 0, 7, 3, 12, 19, 3]\n",
      "[9, 3, 3, 32, 2, 24, 7, 7, 27, 6, 12, 30, 2, 8, 25, 7]\n",
      "Testing on AGNewsDataset\n",
      "[16, 2, 1, 0, 28, 27, 8, 16, 14, 3, 4, 2, 9, 21, 0, 4]\n",
      "[1, 12, 4, 2, 4, 0, 24, 12, 21, 30, 6, 29, 8, 30, 22, 25]\n",
      "[1, 7, 3, 0, 2, 1, 3, 4, 26, 1, 4, 4, 1, 3, 3, 18]\n",
      "[5, 8, 31, 31, 8, 3, 7, 12, 25, 12, 2, 23, 1, 2, 29, 0]\n",
      "[2, 20, 8, 2, 32, 30, 5, 1, 3, 6, 3, 2, 1, 10, 25, 11]\n",
      "[1, 24, 8, 8, 19, 8, 3, 23, 1, 11, 3, 2, 31, 24, 30, 7]\n",
      "[3, 28, 2, 7, 0, 4, 14, 2, 8, 16, 3, 0, 1, 25, 22, 19]\n",
      "[8, 12, 9, 12, 0, 8, 18, 28, 22, 4, 1, 23, 0, 1, 23, 5]\n",
      "[30, 20, 8, 0, 4, 20, 2, 9, 5, 0, 30, 18, 26, 4, 18, 1]\n",
      "[5, 9, 6, 4, 6, 21, 21, 5, 0, 8, 19, 31, 25, 18, 4, 4]\n",
      "Testing on DBPediaDataset\n",
      "[3, 17, 4, 2, 1, 7, 18, 7, 28, 3, 3, 6, 3, 5, 28, 3]\n",
      "[0, 8, 4, 7, 1, 9, 1, 4, 1, 8, 22, 1, 4, 0, 6, 17]\n",
      "[5, 7, 2, 4, 6, 0, 2, 18, 13, 8, 0, 1, 4, 32, 22, 6]\n",
      "[31, 2, 21, 16, 12, 4, 6, 0, 15, 19, 2, 17, 2, 29, 0, 29]\n",
      "[2, 3, 7, 12, 6, 11, 4, 0, 0, 3, 20, 3, 31, 7, 4, 7]\n",
      "[20, 0, 0, 0, 27, 32, 8, 3, 2, 3, 4, 12, 8, 15, 31, 14]\n",
      "[2, 18, 2, 16, 5, 5, 3, 4, 5, 17, 3, 29, 4, 18, 9, 6]\n",
      "[4, 19, 25, 24, 26, 7, 29, 26, 7, 1, 12, 30, 2, 0, 11, 13]\n",
      "[9, 8, 5, 0, 0, 10, 25, 0, 28, 2, 7, 1, 26, 4, 11, 6]\n",
      "[3, 2, 0, 8, 8, 24, 28, 4, 9, 7, 29, 6, 31, 27, 10, 31]\n",
      "Testing on AmazonDataset\n",
      "[27, 1, 24, 27, 5, 32, 25, 17, 14, 16, 31, 28, 14, 21, 32, 1]\n",
      "[21, 18, 19, 1, 20, 32, 3, 8, 7, 19, 3, 6, 6, 2, 2, 0]\n",
      "[0, 23, 27, 3, 2, 5, 2, 2, 0, 4, 24, 1, 0, 9, 3, 0]\n",
      "[25, 31, 16, 25, 18, 19, 4, 32, 2, 4, 2, 0, 5, 30, 7, 28]\n",
      "[4, 3, 1, 4, 1, 6, 31, 7, 2, 10, 0, 12, 6, 27, 10, 1]\n",
      "[2, 16, 2, 11, 0, 31, 2, 30, 4, 2, 14, 0, 1, 3, 21, 7]\n",
      "[0, 7, 18, 8, 25, 5, 8, 27, 13, 3, 6, 5, 6, 9, 4, 2]\n",
      "[9, 1, 2, 7, 4, 19, 4, 10, 5, 3, 3, 24, 3, 2, 2, 29]\n",
      "[1, 4, 2, 26, 4, 3, 3, 25, 6, 4, 5, 24, 11, 27, 26, 24]\n",
      "[1, 13, 11, 14, 3, 17, 32, 17, 30, 0, 1, 2, 26, 21, 6, 27]\n",
      "Testing on YahooAnswersDataset\n",
      "[7, 4, 19, 2, 21, 14, 3, 26, 7, 3, 22, 2, 23, 9, 30, 30]\n",
      "[25, 2, 4, 12, 15, 2, 13, 10, 4, 29, 32, 1, 3, 2, 0, 31]\n",
      "[12, 18, 18, 10, 8, 7, 15, 7, 30, 6, 7, 7, 28, 19, 28, 13]\n",
      "[4, 6, 9, 21, 2, 5, 10, 4, 24, 7, 21, 2, 4, 19, 5, 24]\n",
      "[2, 4, 10, 29, 31, 27, 2, 7, 0, 20, 32, 6, 3, 1, 25, 4]\n",
      "[0, 7, 6, 22, 2, 20, 7, 0, 17, 29, 0, 23, 27, 18, 4, 11]\n",
      "[2, 1, 7, 6, 20, 2, 6, 16, 6, 1, 8, 3, 4, 31, 26, 20]\n",
      "[3, 20, 14, 16, 31, 2, 11, 20, 6, 3, 5, 26, 13, 8, 9, 5]\n",
      "[1, 1, 8, 20, 11, 26, 8, 31, 10, 3, 15, 30, 26, 32, 1, 0]\n",
      "[0, 2, 18, 21, 4, 3, 15, 3, 19, 0, 7, 27, 27, 32, 17, 5]\n",
      "DONE\n"
     ]
    }
   ],
   "source": [
    "print('----------Testing on test set starts here----------')\n",
    "\n",
    "# Data for Replay Imbalance: Yelp --> [[...text], [...label]]\n",
    "data_for_replay = {}\n",
    "\n",
    "for test_dataset in test_datasets:\n",
    "    print('Testing on {}'.format(test_dataset.__class__.__name__))\n",
    "    test_dataloader = data.DataLoader(test_dataset, batch_size=mini_batch_size, shuffle=False,\n",
    "                                      collate_fn=datasets.utils.batch_encode)\n",
    "    \n",
    "    support_set = evaluate(dataloader=test_dataloader, updates=updates, mini_batch_size=mini_batch_size)\n",
    "    \n",
    "    text_list = [item for s in support_set for item in s[0]]\n",
    "    label_list = [item for s in support_set for item in s[1]]\n",
    "    \n",
    "    data_for_replay[test_dataset.__class__.__name__] = [text_list, label_list]\n",
    "print(\"DONE\")"
   ]
  },
  {
   "cell_type": "code",
   "execution_count": 9,
   "metadata": {},
   "outputs": [],
   "source": [
    "# _model_path0 = os.path.splitext(model_path)[0]\n",
    "# csv_filename = _model_path0 + \"_update\"+ str(updates) +\"_results.csv\"\n",
    "# with open(csv_filename, 'w') as csv_file:\n",
    "#     csv_writer = csv.writer(csv_file)\n",
    "#     csv_writer.writerow([\"data_idx\", \"label\", \"label_conf\", \"pred\"])\n",
    "#     csv_writer.writerows(data_for_visual)\n",
    "# print(f\"Done writing CSV File at {csv_filename}\")"
   ]
  },
  {
   "cell_type": "code",
   "execution_count": 10,
   "metadata": {},
   "outputs": [
    {
     "data": {
      "text/plain": [
       "dict_keys(['YelpDataset', 'AGNewsDataset', 'DBPediaDataset', 'AmazonDataset', 'YahooAnswersDataset'])"
      ]
     },
     "execution_count": 10,
     "metadata": {},
     "output_type": "execute_result"
    }
   ],
   "source": [
    "data_for_replay.keys()"
   ]
  },
  {
   "cell_type": "code",
   "execution_count": 11,
   "metadata": {
    "scrolled": true
   },
   "outputs": [
    {
     "data": {
      "text/plain": [
       "160"
      ]
     },
     "execution_count": 11,
     "metadata": {},
     "output_type": "execute_result"
    }
   ],
   "source": [
    "len(data_for_replay['YelpDataset'][1])"
   ]
  },
  {
   "cell_type": "code",
   "execution_count": 12,
   "metadata": {},
   "outputs": [],
   "source": [
    "count_bins = {}\n",
    "for label_id in data_for_replay['YelpDataset'][1]:\n",
    "    if label_id in count_bins:\n",
    "        count_bins[label_id] += 1\n",
    "    else:\n",
    "        count_bins[label_id] = 1\n",
    "for label_id in range(33):\n",
    "    if label_id not in count_bins:\n",
    "        count_bins[label_id] = 0 "
   ]
  },
  {
   "cell_type": "code",
   "execution_count": 13,
   "metadata": {},
   "outputs": [],
   "source": [
    "def getColorFromIndex(n):\n",
    "    colorList = ['#1f77b4', '#ff7f0e', '#2ca02c', '#d62728', '#9467bd', \\\n",
    "                 '#8c564b', '#e377c2', '#7f7f7f', '#bcbd22', '#17becf']\n",
    "    return colorList[n%len(colorList)]"
   ]
  },
  {
   "cell_type": "code",
   "execution_count": 14,
   "metadata": {},
   "outputs": [],
   "source": [
    "def add_value_labels(ax, spacing=5):\n",
    "    \"\"\"Add labels to the end of each bar in a bar chart.\n",
    "\n",
    "    Arguments:\n",
    "        ax (matplotlib.axes.Axes): The matplotlib object containing the axes\n",
    "            of the plot to annotate.\n",
    "        spacing (int): The distance between the labels and the bars.\n",
    "    \"\"\"\n",
    "\n",
    "    # For each bar: Place a label\n",
    "    for rect in ax.patches:\n",
    "        # Get X and Y placement of label from rect.\n",
    "        y_value = rect.get_height()\n",
    "        x_value = rect.get_x() + rect.get_width() / 2\n",
    "\n",
    "        # Number of points between bar and label. Change to your liking.\n",
    "        space = spacing\n",
    "        # Vertical alignment for positive values\n",
    "        va = 'bottom'\n",
    "\n",
    "        # If value of bar is negative: Place label below bar\n",
    "        if y_value < 0:\n",
    "            # Invert space to place label below\n",
    "            space *= -1\n",
    "            # Vertically align label at top\n",
    "            va = 'top'\n",
    "\n",
    "        # Use Y value as label and format number with one decimal place\n",
    "        label = \"{:.1f}\".format(y_value)\n",
    "\n",
    "        # Create annotation\n",
    "        ax.annotate(\n",
    "            label,                      # Use `label` as label\n",
    "            (x_value, y_value),         # Place label at end of the bar\n",
    "            xytext=(0, space),          # Vertically shift label by `space`\n",
    "            textcoords=\"offset points\", # Interpret `xytext` as offset in points\n",
    "            ha='center',                # Horizontally center label\n",
    "            va=va)                      # Vertically align label differently for\n",
    "                                        # positive and negative values.\n"
   ]
  },
  {
   "cell_type": "code",
   "execution_count": 15,
   "metadata": {},
   "outputs": [
    {
     "data": {
      "text/plain": [
       "(array([16., 11.,  5., 17., 13.,  7.,  8., 10.,  9.,  6.,  1.,  2.,  4.,\n",
       "         0.,  2.,  4.,  2.,  2.,  0.,  4.,  1.,  3.,  4.,  3.,  3.,  2.,\n",
       "         5.,  7.,  0.,  2.,  1.,  2.,  4.]),\n",
       " array([ 0.        ,  0.96969697,  1.93939394,  2.90909091,  3.87878788,\n",
       "         4.84848485,  5.81818182,  6.78787879,  7.75757576,  8.72727273,\n",
       "         9.6969697 , 10.66666667, 11.63636364, 12.60606061, 13.57575758,\n",
       "        14.54545455, 15.51515152, 16.48484848, 17.45454545, 18.42424242,\n",
       "        19.39393939, 20.36363636, 21.33333333, 22.3030303 , 23.27272727,\n",
       "        24.24242424, 25.21212121, 26.18181818, 27.15151515, 28.12121212,\n",
       "        29.09090909, 30.06060606, 31.03030303, 32.        ]),\n",
       " <BarContainer object of 33 artists>)"
      ]
     },
     "execution_count": 15,
     "metadata": {},
     "output_type": "execute_result"
    },
    {
     "data": {
      "image/png": "[encoded data removed]",
      "text/plain": [
       "<Figure size 1080x576 with 1 Axes>"
      ]
     },
     "metadata": {
      "needs_background": "light"
     },
     "output_type": "display_data"
    }
   ],
   "source": [
    "fig, ax =  plt.subplots(figsize=(15,8))\n",
    "ax.hist(data_for_replay['YelpDataset'][1], bins=33)"
   ]
  },
  {
   "cell_type": "code",
   "execution_count": 16,
   "metadata": {},
   "outputs": [
    {
     "data": {
      "image/png": "[encoded data removed]",
      "text/plain": [
       "<Figure size 1080x576 with 1 Axes>"
      ]
     },
     "metadata": {
      "needs_background": "light"
     },
     "output_type": "display_data"
    }
   ],
   "source": [
    "fig, ax =  plt.subplots(figsize=(15,8))\n",
    "ax.bar(np.arange(33), [count_bins[label_id] for label_id in range(33)], color=[getColorFromIndex(i) for i in range(33)])\n",
    "# ax.xaxis.set_ticklabels(np.arange(33))\n",
    "\n",
    "ax.set_title('Support Set Classes Frequency')\n",
    "ax.set_xlabel('Classes 0-32')\n",
    "ax.set_ylabel('Frequency')\n",
    "add_value_labels(ax)"
   ]
  },
  {
   "cell_type": "code",
   "execution_count": 17,
   "metadata": {},
   "outputs": [
    {
     "data": {
      "text/plain": [
       "(array([62., 34., 35., 29.]),\n",
       " array([ 0,  5,  9, 23, 33]),\n",
       " <BarContainer object of 4 artists>)"
      ]
     },
     "execution_count": 17,
     "metadata": {},
     "output_type": "execute_result"
    },
    {
     "data": {
      "image/png": "[encoded data removed]",
      "text/plain": [
       "<Figure size 432x288 with 1 Axes>"
      ]
     },
     "metadata": {
      "needs_background": "light"
     },
     "output_type": "display_data"
    }
   ],
   "source": [
    "# Amazon/Yelp: 0 (0-4) Length: 5 range(5)\n",
    "# AgNews: 5 (5-8) Length: 4 range(5, 9)\n",
    "# DBPedia: 9 (9-22) Length: 14 range(9, 23)\n",
    "# Yahoo: 23 (23-32) Length: 10 range(23, 33)\n",
    "\n",
    "plt.hist(data_for_replay['YelpDataset'][1], bins=[0,5, 9,23,33])"
   ]
  }
 ],
 "metadata": {
  "kernelspec": {
   "display_name": "metalifelong",
   "language": "python",
   "name": "metalifelong"
  },
  "language_info": {
   "codemirror_mode": {
    "name": "ipython",
    "version": 3
   },
   "file_extension": ".py",
   "mimetype": "text/x-python",
   "name": "python",
   "nbconvert_exporter": "python",
   "pygments_lexer": "ipython3",
   "version": "3.8.16"
  }
 },
 "nbformat": 4,
 "nbformat_minor": 4
}
